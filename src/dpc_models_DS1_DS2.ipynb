{
 "cells": [
  {
   "cell_type": "code",
   "execution_count": null,
   "metadata": {},
   "outputs": [],
   "source": [
    "import pandas as pd\n",
    "from estimator import *\n",
    "from sklearn.metrics import accuracy_score\n",
    "from sklearn.metrics import make_scorer\n",
    "from sklearn.metrics import matthews_corrcoef\n",
    "from sklearn.model_selection import cross_validate\n",
    "from sklearn.metrics import confusion_matrix\n",
    "from sklearn.metrics import roc_auc_score\n",
    "from sklearn.metrics import matthews_corrcoef as MCC\n",
    "from sklearn.metrics import cohen_kappa_score"
   ]
  },
  {
   "cell_type": "code",
   "execution_count": null,
   "metadata": {},
   "outputs": [],
   "source": [
    "def check_fitted(clf): \n",
    "    return hasattr(clf, \"classes_\")"
   ]
  },
  {
   "cell_type": "code",
   "execution_count": null,
   "metadata": {},
   "outputs": [],
   "source": [
    "def gen_training_matrix(pos_train, neg_train):\n",
    "    pos_train = pos_train.drop(['Unnamed: 400'], axis=1)\n",
    "    neg_train = neg_train.drop(['Unnamed: 400'], axis=1)\n",
    "    pos_train['flag'] = 1\n",
    "    neg_train['flag'] = 0\n",
    "    train = pd.concat([pos_train, neg_train])\n",
    "    train = train.sample(frac=1).reset_index(drop=True)\n",
    "    X = train[train.columns[:400]]\n",
    "    Y = train['flag']\n",
    "    return X, Y"
   ]
  },
  {
   "cell_type": "code",
   "execution_count": null,
   "metadata": {},
   "outputs": [],
   "source": [
    "def sensitivity(y_true, y_pred):\n",
    "    tn, fp, fn, tp = confusion_matrix(y_true, y_pred).ravel()\n",
    "    sensitivity = tp / (tp+fn)\n",
    "    return sensitivity\n",
    "\n",
    "def specificity(y_true, y_pred):\n",
    "    tn, fp, fn, tp = confusion_matrix(y_true, y_pred).ravel()\n",
    "    specificity = tn / (tn+fp)\n",
    "    return specificity\n",
    "\n",
    "scoring = {'rocauc': make_scorer(roc_auc_score),\n",
    "           'accuracy': make_scorer(accuracy_score),\n",
    "           'sensitivity': make_scorer(sensitivity), \n",
    "           'specificity': make_scorer(specificity),\n",
    "           'mcc': make_scorer(MCC),\n",
    "           'kappa': make_scorer(cohen_kappa_score)}\n",
    "\n",
    "def print_results(cv_results, classifier):\n",
    "    print(classifier)\n",
    "    print('Sensitivity: ', \"%.2f\" % cv_results['test_sensitivity'].mean())\n",
    "    print('Specificity: ', \"%.2f\" % cv_results['test_specificity'].mean())\n",
    "    print('Accuracy: ', \"%.2f\" % cv_results['test_accuracy'].mean())  \n",
    "    print('MCC: ', \"%.2f\" % cv_results['test_mcc'].mean())\n",
    "    print('ROC: ', \"%.2f\" % cv_results['test_rocauc'].mean())  \n",
    "    print('Cohen\\'s Kappa: ', \"%.2f\" % cv_results['test_kappa'].mean())\n",
    "\n",
    "\n",
    "def generate_results(clf, features, labels, fold_size=5):\n",
    "    cv_results = cross_validate(clf.fit(features, labels), features, labels, scoring=scoring, cv=fold_size)\n",
    "    print_results(cv_results, clf)"
   ]
  },
  {
   "cell_type": "code",
   "execution_count": null,
   "metadata": {},
   "outputs": [],
   "source": [
    "def print_results_test(y_true, y_pred, y_scores, classifier):\n",
    "    print(classifier)\n",
    "    print('Sensitivity: ', \"%.2f\" % sensitivity(y_true, y_pred))\n",
    "    print('Specificity: ', \"%.2f\" % specificity(y_true, y_pred))\n",
    "    print('Accuracy: ', \"%.2f\" % accuracy_score(y_true, y_pred))  \n",
    "    print('MCC: ', \"%.2f\" % MCC(y_true, y_pred))\n",
    "    print('ROC: ', \"%.2f\" % roc_auc_score(y_true, y_scores))\n",
    "    print('Cohen\\'s Kappa: ', \"%.2f\" % cohen_kappa_score(y_true, y_pred))"
   ]
  },
  {
   "cell_type": "code",
   "execution_count": null,
   "metadata": {},
   "outputs": [],
   "source": [
    "def evaluate_models_cv(clf1, clf2, clf3, clf4, clf5, X_train, Y_train):\n",
    "    generate_results(clf1, X_train, Y_train)\n",
    "    generate_results(clf2, X_train, Y_train)\n",
    "    generate_results(clf3, X_train, Y_train)\n",
    "    generate_results(clf4, X_train, Y_train)\n",
    "    generate_results(clf5, X_train, Y_train)\n",
    "\n",
    "def evaluate_models_test(clf1, clf2, clf3, clf4, clf5, X_valid, Y_valid):\n",
    "\n",
    "    Y_valid_scores = clf1.predict_proba(X_valid)[:, 1]\n",
    "    Y_valid_pred = clf1.predict(X_valid)\n",
    "    print_results_test(Y_valid, Y_valid_pred, Y_valid_scores, clf1)\n",
    "\n",
    "    Y_valid_scores = clf2.predict_proba(X_valid)[:, 1]\n",
    "    Y_valid_pred = clf2.predict(X_valid)\n",
    "    print_results_test(Y_valid, Y_valid_pred, Y_valid_scores, clf2)\n",
    "\n",
    "    Y_valid_scores = clf3.predict_proba(X_valid)[:, 1]\n",
    "    Y_valid_pred = clf3.predict(X_valid)\n",
    "    print_results_test(Y_valid, Y_valid_pred, Y_valid_scores, clf3)\n",
    "\n",
    "    Y_valid_scores = clf4.predict_proba(X_valid)[:, 1]\n",
    "    Y_valid_pred = clf4.predict(X_valid)\n",
    "    print_results_test(Y_valid, Y_valid_pred, Y_valid_scores, clf4)\n",
    "\n",
    "    Y_valid_scores = clf5.predict_proba(X_valid)[:, 1]\n",
    "    Y_valid_pred = clf5.predict(X_valid)\n",
    "    print_results_test(Y_valid, Y_valid_pred, Y_valid_scores, clf5)"
   ]
  },
  {
   "cell_type": "code",
   "execution_count": null,
   "metadata": {},
   "outputs": [],
   "source": [
    "def hyper_parameter_tuning(X_train, Y_train, csvname):\n",
    "    helper1 = EstimatorSelectionHelper(models1, params1)\n",
    "    helper1.fit(X_train, Y_train, cv=5, scoring='roc_auc', n_jobs=-1)\n",
    "    helper1.score_summary(sort_by='mean_score').to_csv(csvname, sep=',')"
   ]
  },
  {
   "cell_type": "code",
   "execution_count": null,
   "metadata": {},
   "outputs": [],
   "source": [
    "_pos_train = pd.read_csv('../features/dpc/pos_train_0')\n",
    "_neg_train = pd.read_csv('../features/dpc/neg_train_0')"
   ]
  },
  {
   "cell_type": "code",
   "execution_count": null,
   "metadata": {},
   "outputs": [],
   "source": [
    "X_train, Y_train = gen_training_matrix(_pos_train, _neg_train)"
   ]
  },
  {
   "cell_type": "code",
   "execution_count": null,
   "metadata": {},
   "outputs": [],
   "source": [
    "#Takes a lot of time. Comment out to perform it again. \n",
    "#You will have to manually read the csv files and change the hyperparameters of the classifiers (clf1, ..., clf6) manually.\n",
    "#For now the clfx's have the best parameters. So there is no need to perform this again\n",
    "hyper_parameter_tuning(X_train, Y_train, \"parameters_dpc.csv\")"
   ]
  },
  {
   "cell_type": "code",
   "execution_count": null,
   "metadata": {},
   "outputs": [],
   "source": [
    "clf1 = SVC(C=1, gamma=0.001, kernel='rbf', probability=True)\n",
    "clf2 = RandomForestClassifier(criterion='entropy', max_depth=8, max_features='log2', n_estimators=500)\n",
    "clf3 = KNeighborsClassifier(algorithm='brute', n_neighbors=5, weights='uniform')\n",
    "clf4 = ExtraTreesClassifier(criterion='gini', max_depth=8, max_features='sqrt', n_estimators=100)\n",
    "clf5 = MLPClassifier(alpha=0.1, hidden_layer_sizes=10, max_iter=1500, random_state=3, solver='lbfgs')"
   ]
  },
  {
   "cell_type": "markdown",
   "metadata": {},
   "source": [
    "# EVALUATE MODELS"
   ]
  },
  {
   "cell_type": "code",
   "execution_count": null,
   "metadata": {},
   "outputs": [],
   "source": [
    "evaluate_models_cv(clf1, clf2, clf3, clf4, clf5, X_train, Y_train)"
   ]
  },
  {
   "cell_type": "code",
   "execution_count": null,
   "metadata": {},
   "outputs": [],
   "source": [
    "_pos_valid = pd.read_csv('../features/dpc/pos_valid_0')\n",
    "_neg_valid = pd.read_csv('../features/dpc/neg_valid_0')"
   ]
  },
  {
   "cell_type": "code",
   "execution_count": null,
   "metadata": {},
   "outputs": [],
   "source": [
    "X_valid, Y_valid = gen_training_matrix(_pos_valid, _neg_valid)"
   ]
  },
  {
   "cell_type": "code",
   "execution_count": null,
   "metadata": {},
   "outputs": [],
   "source": [
    "clf1.fit(X_train, Y_train)\n",
    "clf2.fit(X_train, Y_train)\n",
    "clf3.fit(X_train, Y_train)\n",
    "clf4.fit(X_train, Y_train)\n",
    "clf5.fit(X_train, Y_train)"
   ]
  },
  {
   "cell_type": "code",
   "execution_count": null,
   "metadata": {},
   "outputs": [],
   "source": [
    "evaluate_models_test(clf1, clf2, clf3, clf4, clf5, X_valid, Y_valid)"
   ]
  },
  {
   "cell_type": "code",
   "execution_count": null,
   "metadata": {},
   "outputs": [],
   "source": []
  },
  {
   "cell_type": "code",
   "execution_count": null,
   "metadata": {},
   "outputs": [],
   "source": [
    "X_train = None\n",
    "Y_train = None\n",
    "X_valid = None\n",
    "Y_valid = None"
   ]
  },
  {
   "cell_type": "code",
   "execution_count": null,
   "metadata": {},
   "outputs": [],
   "source": []
  },
  {
   "cell_type": "code",
   "execution_count": null,
   "metadata": {},
   "outputs": [],
   "source": [
    "_pos_train_rand = pd.read_csv('../features/dpc/pos_train_0')\n",
    "_neg_train_rand = pd.read_csv('../features/dpc/neg_train_rand_0')"
   ]
  },
  {
   "cell_type": "code",
   "execution_count": null,
   "metadata": {},
   "outputs": [],
   "source": [
    "X_train_rand, Y_train_rand = gen_training_matrix(_pos_train_rand, _neg_train_rand)"
   ]
  },
  {
   "cell_type": "code",
   "execution_count": null,
   "metadata": {},
   "outputs": [],
   "source": [
    "hyper_parameter_tuning(X_train_rand, Y_train_rand, \"parameters_dpc_rand.csv\")"
   ]
  },
  {
   "cell_type": "code",
   "execution_count": null,
   "metadata": {},
   "outputs": [],
   "source": [
    "clf1 = SVC(C=2, gamma=0.001, kernel='rbf', probability=True)\n",
    "clf2 = RandomForestClassifier(criterion='entropy', max_depth=8, max_features='log2', n_estimators=500)\n",
    "clf3 = KNeighborsClassifier(algorithm='auto', n_neighbors=10, weights='distance')\n",
    "clf4 = ExtraTreesClassifier(criterion='gini', max_depth=8, max_features='log2', n_estimators=500)\n",
    "clf5 = MLPClassifier(alpha=0.1, hidden_layer_sizes=10, max_iter=1500, random_state=9, solver='lbfgs')"
   ]
  },
  {
   "cell_type": "code",
   "execution_count": null,
   "metadata": {},
   "outputs": [],
   "source": [
    "evaluate_models_cv(clf1, clf2, clf3, clf4, clf5, X_train_rand, Y_train_rand)"
   ]
  },
  {
   "cell_type": "code",
   "execution_count": null,
   "metadata": {},
   "outputs": [],
   "source": []
  },
  {
   "cell_type": "code",
   "execution_count": null,
   "metadata": {},
   "outputs": [],
   "source": [
    "_pos_valid_rand = pd.read_csv('../features/dpc/pos_valid_0')\n",
    "_neg_valid_rand = pd.read_csv('../features/dpc/neg_valid_rand_0')"
   ]
  },
  {
   "cell_type": "code",
   "execution_count": null,
   "metadata": {},
   "outputs": [],
   "source": [
    "X_valid_rand, Y_valid_rand = gen_training_matrix(_pos_valid_rand, _neg_valid_rand)"
   ]
  },
  {
   "cell_type": "code",
   "execution_count": null,
   "metadata": {},
   "outputs": [],
   "source": [
    "clf1.fit(X_train_rand, Y_train_rand)\n",
    "clf2.fit(X_train_rand, Y_train_rand)\n",
    "clf3.fit(X_train_rand, Y_train_rand)\n",
    "clf4.fit(X_train_rand, Y_train_rand)\n",
    "clf5.fit(X_train_rand, Y_train_rand)"
   ]
  },
  {
   "cell_type": "code",
   "execution_count": null,
   "metadata": {},
   "outputs": [],
   "source": [
    "evaluate_models_test(clf1, clf2, clf3, clf4, clf5, X_valid_rand, Y_valid_rand)"
   ]
  },
  {
   "cell_type": "code",
   "execution_count": null,
   "metadata": {},
   "outputs": [],
   "source": []
  }
 ],
 "metadata": {
  "kernelspec": {
   "display_name": "Python 3",
   "language": "python",
   "name": "python3"
  },
  "language_info": {
   "codemirror_mode": {
    "name": "ipython",
    "version": 3
   },
   "file_extension": ".py",
   "mimetype": "text/x-python",
   "name": "python",
   "nbconvert_exporter": "python",
   "pygments_lexer": "ipython3",
   "version": "3.7.1"
  }
 },
 "nbformat": 4,
 "nbformat_minor": 2
}

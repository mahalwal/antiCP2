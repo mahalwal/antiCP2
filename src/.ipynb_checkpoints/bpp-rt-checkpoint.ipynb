{
 "cells": [
  {
   "cell_type": "code",
   "execution_count": 10,
   "metadata": {},
   "outputs": [],
   "source": [
    "import pandas as pd"
   ]
  },
  {
   "cell_type": "code",
   "execution_count": 11,
   "metadata": {},
   "outputs": [],
   "source": [
    "pos_train0 = pd.read_csv('../dataset/pos_train', header=None)\n",
    "neg_train0 = pd.read_csv('../dataset/neg_train', header=None)\n",
    "pos_valid0 = pd.read_csv('../dataset/pos_valid', header=None)\n",
    "neg_valid0 = pd.read_csv('../dataset/neg_valid', header=None)"
   ]
  },
  {
   "cell_type": "code",
   "execution_count": 12,
   "metadata": {},
   "outputs": [],
   "source": [
    "neg_train_c5 = pd.read_csv('../features/bp/nt/neg_train_n5', header=None)\n",
    "neg_train_c10 = pd.read_csv('../features/bp/nt/neg_train_n10', header=None)\n",
    "neg_train_c15 = pd.read_csv('../features/bp/nt/neg_train_n15', header=None)"
   ]
  },
  {
   "cell_type": "code",
   "execution_count": 13,
   "metadata": {},
   "outputs": [],
   "source": [
    "neg_valid_c5 = pd.read_csv('../features/bp/nt/neg_valid_n5', header=None)\n",
    "neg_valid_c10 = pd.read_csv('../features/bp/nt/neg_valid_n10', header=None)\n",
    "neg_valid_c15 = pd.read_csv('../features/bp/nt/neg_valid_n15', header=None)\n",
    "\n",
    "pos_train_c5 = pd.read_csv('../features/bp/nt/pos_train_n5', header=None)\n",
    "pos_train_c10 = pd.read_csv('../features/bp/nt/pos_train_n10', header=None)\n",
    "pos_train_c15 = pd.read_csv('../features/bp/nt/pos_train_n15', header=None, names = list(range(15*20+1)))\n",
    "\n",
    "pos_valid_c5 = pd.read_csv('../features/bp/nt/pos_valid_n5', header=None)\n",
    "pos_valid_c10 = pd.read_csv('../features/bp/nt/pos_valid_n10', header=None)\n",
    "pos_valid_c15 = pd.read_csv('../features/bp/nt/pos_valid_n15', header=None)"
   ]
  },
  {
   "cell_type": "code",
   "execution_count": 14,
   "metadata": {},
   "outputs": [],
   "source": [
    "neg_train_c5.drop(neg_train_c5.columns[len(neg_train_c5.columns)-1], axis=1, inplace=True)\n",
    "neg_train_c10.drop(neg_train_c10.columns[len(neg_train_c10.columns)-1], axis=1, inplace=True)\n",
    "neg_train_c15.drop(neg_train_c15.columns[len(neg_train_c15.columns)-1], axis=1, inplace=True)\n",
    "\n",
    "\n",
    "neg_valid_c5.drop(neg_valid_c5.columns[len(neg_valid_c5.columns)-1], axis=1, inplace=True)\n",
    "neg_valid_c10.drop(neg_valid_c10.columns[len(neg_valid_c10.columns)-1], axis=1, inplace=True)\n",
    "neg_valid_c15.drop(neg_valid_c15.columns[len(neg_valid_c15.columns)-1], axis=1, inplace=True)\n",
    "\n",
    "pos_train_c5.drop(pos_train_c5.columns[len(pos_train_c5.columns)-1], axis=1, inplace=True)\n",
    "pos_train_c10.drop(pos_train_c10.columns[len(pos_train_c10.columns)-1], axis=1, inplace=True)\n",
    "pos_train_c15.drop(pos_train_c15.columns[len(pos_train_c15.columns)-1], axis=1, inplace=True)\n",
    "\n",
    "pos_valid_c5.drop(pos_valid_c5.columns[len(pos_valid_c5.columns)-1], axis=1, inplace=True)\n",
    "pos_valid_c10.drop(pos_valid_c10.columns[len(pos_valid_c10.columns)-1], axis=1, inplace=True)\n",
    "pos_valid_c15.drop(pos_valid_c15.columns[len(pos_valid_c15.columns)-1], axis=1, inplace=True)"
   ]
  },
  {
   "cell_type": "code",
   "execution_count": 15,
   "metadata": {},
   "outputs": [],
   "source": [
    "neg_train_c5.dropna(inplace=True)\n",
    "neg_train_c10.dropna(inplace=True)\n",
    "neg_train_c15.dropna(inplace=True)\n",
    "\n",
    "\n",
    "neg_valid_c5.dropna(inplace=True)\n",
    "neg_valid_c10.dropna(inplace=True)\n",
    "neg_valid_c15.dropna(inplace=True)\n",
    "\n",
    "pos_train_c5.dropna(inplace=True)\n",
    "pos_train_c10.dropna(inplace=True)\n",
    "pos_train_c15.dropna(inplace=True)\n",
    "\n",
    "pos_valid_c5.dropna(inplace=True)\n",
    "pos_valid_c10.dropna(inplace=True)\n",
    "pos_valid_c15.dropna(inplace=True)"
   ]
  },
  {
   "cell_type": "code",
   "execution_count": 16,
   "metadata": {},
   "outputs": [],
   "source": [
    "neg_train_c5.reset_index(drop=True, inplace=True)\n",
    "neg_train_c10.reset_index(drop=True, inplace=True)\n",
    "neg_train_c15.reset_index(drop=True, inplace=True)\n",
    "\n",
    "\n",
    "neg_valid_c5.reset_index(drop=True, inplace=True)\n",
    "neg_valid_c10.reset_index(drop=True, inplace=True)\n",
    "neg_valid_c15.reset_index(drop=True, inplace=True)\n",
    "\n",
    "pos_train_c5.reset_index(drop=True, inplace=True)\n",
    "pos_train_c10.reset_index(drop=True, inplace=True)\n",
    "pos_train_c15.reset_index(drop=True, inplace=True)\n",
    "\n",
    "pos_valid_c5.reset_index(drop=True, inplace=True)\n",
    "pos_valid_c10.reset_index(drop=True, inplace=True)\n",
    "pos_valid_c15.reset_index(drop=True, inplace=True)"
   ]
  },
  {
   "cell_type": "code",
   "execution_count": 17,
   "metadata": {},
   "outputs": [],
   "source": [
    "neg_train_c5['flag'] = 0\n",
    "neg_train_c10['flag'] = 0\n",
    "neg_train_c15['flag'] = 0\n",
    "\n",
    "\n",
    "neg_valid_c5['flag'] = 0\n",
    "neg_valid_c10['flag'] = 0\n",
    "neg_valid_c15['flag'] = 0\n",
    "\n",
    "pos_train_c5['flag'] = 1\n",
    "pos_train_c10['flag'] = 1\n",
    "pos_train_c15['flag'] = 1\n",
    "\n",
    "pos_valid_c5['flag'] = 1\n",
    "pos_valid_c10['flag'] = 1\n",
    "pos_valid_c15['flag'] = 1"
   ]
  },
  {
   "cell_type": "code",
   "execution_count": 18,
   "metadata": {},
   "outputs": [],
   "source": [
    "train_c5 = pd.concat([pos_train_c5, neg_train_c5])\n",
    "train_c5 = train_c5.sample(frac=1).reset_index(drop=True)\n",
    "X_c5 = train_c5.drop(train_c5.columns[len(train_c5.columns)-1], axis=1)\n",
    "Y_c5 = train_c5['flag']\n",
    "\n",
    "train_c10 = pd.concat([pos_train_c10, neg_train_c10])\n",
    "train_c10 = train_c10.sample(frac=1).reset_index(drop=True)\n",
    "X_c10 = train_c10.drop(train_c10.columns[len(train_c10.columns)-1], axis=1)\n",
    "Y_c10 = train_c10['flag']\n",
    "\n",
    "train_c15 = pd.concat([pos_train_c15, neg_train_c15])\n",
    "train_c15 = train_c15.sample(frac=1).reset_index(drop=True)\n",
    "X_c15 = train_c15.drop(train_c15.columns[len(train_c15.columns)-1], axis=1)\n",
    "Y_c15 = train_c15['flag']"
   ]
  },
  {
   "cell_type": "code",
   "execution_count": null,
   "metadata": {},
   "outputs": [],
   "source": []
  },
  {
   "cell_type": "code",
   "execution_count": 19,
   "metadata": {},
   "outputs": [],
   "source": [
    "valid_c5 = pd.concat([pos_valid_c5, neg_valid_c5])\n",
    "valid_c5 = valid_c5.sample(frac=1).reset_index(drop=True)\n",
    "Xval_c5 = valid_c5.drop(valid_c5.columns[len(valid_c5.columns)-1], axis=1)\n",
    "Yval_c5 = valid_c5['flag']\n",
    "\n",
    "valid_c10 = pd.concat([pos_valid_c10, neg_valid_c10])\n",
    "valid_c10 = valid_c10.sample(frac=1).reset_index(drop=True)\n",
    "Xval_c10 = valid_c10.drop(valid_c10.columns[len(valid_c10.columns)-1], axis=1)\n",
    "Yval_c10 = valid_c10['flag']\n",
    "\n",
    "valid_c15 = pd.concat([pos_valid_c15, neg_valid_c15])\n",
    "valid_c15 = valid_c15.sample(frac=1).reset_index(drop=True)\n",
    "Xval_c15 = valid_c15.drop(valid_c15.columns[len(valid_c15.columns)-1], axis=1)\n",
    "Yval_c15 = valid_c15['flag']"
   ]
  },
  {
   "cell_type": "code",
   "execution_count": 20,
   "metadata": {},
   "outputs": [],
   "source": [
    "from estimator import *\n",
    "helper1 = EstimatorSelectionHelper(models1, params1)"
   ]
  },
  {
   "cell_type": "code",
   "execution_count": null,
   "metadata": {},
   "outputs": [],
   "source": []
  },
  {
   "cell_type": "code",
   "execution_count": 21,
   "metadata": {},
   "outputs": [
    {
     "name": "stdout",
     "output_type": "stream",
     "text": [
      "Running GridSearchCV for SVC.\n",
      "Fitting 10 folds for each of 40 candidates, totalling 400 fits\n"
     ]
    },
    {
     "name": "stderr",
     "output_type": "stream",
     "text": [
      "[Parallel(n_jobs=-1)]: Using backend LokyBackend with 4 concurrent workers.\n",
      "[Parallel(n_jobs=-1)]: Done  42 tasks      | elapsed:   19.9s\n",
      "[Parallel(n_jobs=-1)]: Done 192 tasks      | elapsed:  1.1min\n",
      "[Parallel(n_jobs=-1)]: Done 400 out of 400 | elapsed:  2.0min finished\n"
     ]
    }
   ],
   "source": [
    "helper1.fit(X_c5, Y_c5, scoring='accuracy', n_jobs=-1)"
   ]
  },
  {
   "cell_type": "code",
   "execution_count": null,
   "metadata": {},
   "outputs": [
    {
     "name": "stdout",
     "output_type": "stream",
     "text": [
      "Running GridSearchCV for SVC.\n",
      "Fitting 10 folds for each of 40 candidates, totalling 400 fits\n"
     ]
    },
    {
     "name": "stderr",
     "output_type": "stream",
     "text": [
      "[Parallel(n_jobs=-1)]: Using backend LokyBackend with 4 concurrent workers.\n",
      "[Parallel(n_jobs=-1)]: Done  42 tasks      | elapsed:   51.9s\n"
     ]
    }
   ],
   "source": [
    "helper1.fit(X_c10, Y_c10, scoring='accuracy', n_jobs=-1)\n",
    "helper1.score_summary(sort_by='mean_score').to_csv(\"parameters_bpp-nt-10.csv\", sep=',')"
   ]
  },
  {
   "cell_type": "code",
   "execution_count": 22,
   "metadata": {},
   "outputs": [
    {
     "name": "stderr",
     "output_type": "stream",
     "text": [
      "C:\\Users\\Manish Mahalwal\\Desktop\\7SEM\\IP\\fresh\\src\\estimator.py:98: FutureWarning: Sorting because non-concatenation axis is not aligned. A future version\n",
      "of pandas will change to not sort by default.\n",
      "\n",
      "To accept the future behavior, pass 'sort=False'.\n",
      "\n",
      "To retain the current behavior and silence the warning, pass 'sort=True'.\n",
      "\n",
      "  df = pd.concat(rows, axis=1).T.sort_values([sort_by], ascending=False)\n"
     ]
    },
    {
     "name": "stdout",
     "output_type": "stream",
     "text": [
      "SVC\n"
     ]
    }
   ],
   "source": [
    "helper1.score_summary(sort_by='mean_score').to_csv(\"parameters_bpp-nt-5.csv\", sep=',')"
   ]
  },
  {
   "cell_type": "code",
   "execution_count": null,
   "metadata": {},
   "outputs": [],
   "source": []
  },
  {
   "cell_type": "code",
   "execution_count": 23,
   "metadata": {},
   "outputs": [],
   "source": [
    "clf1 = SVC(C=2, gamma=0.5, kernel='rbf')"
   ]
  },
  {
   "cell_type": "code",
   "execution_count": 24,
   "metadata": {},
   "outputs": [],
   "source": [
    "from sklearn.metrics import accuracy_score\n",
    "from sklearn.metrics import make_scorer\n",
    "from sklearn.metrics import matthews_corrcoef\n",
    "from sklearn.model_selection import cross_validate\n",
    "from sklearn.metrics import confusion_matrix\n",
    "from sklearn.metrics import roc_auc_score\n",
    "from sklearn.metrics import matthews_corrcoef as MCC\n",
    "from sklearn.metrics import cohen_kappa_score\n",
    "\n",
    "def sensitivity(y_true, y_pred):\n",
    "    tn, fp, fn, tp = confusion_matrix(y_true, y_pred).ravel()\n",
    "    sensitivity = tp / (tp+fn)\n",
    "    return sensitivity\n",
    "\n",
    "def specificity(y_true, y_pred):\n",
    "    tn, fp, fn, tp = confusion_matrix(y_true, y_pred).ravel()\n",
    "    specificity = tn / (tn+fp)\n",
    "    return specificity\n",
    "\n",
    "\n",
    "scoring = {'rocauc': make_scorer(roc_auc_score),\n",
    "           'accuracy': make_scorer(accuracy_score),\n",
    "           'sensitivity': make_scorer(sensitivity), \n",
    "           'specificity': make_scorer(specificity),\n",
    "           'mcc': make_scorer(MCC),\n",
    "           'kappa': make_scorer(cohen_kappa_score)}"
   ]
  },
  {
   "cell_type": "code",
   "execution_count": 25,
   "metadata": {},
   "outputs": [],
   "source": [
    "def print_results(cv_results, classifier):\n",
    "    print(classifier)\n",
    "    print('Sensitivity: ', \"%.2f\" % cv_results['test_sensitivity'].mean())\n",
    "    print('Specificity: ', \"%.2f\" % cv_results['test_specificity'].mean())\n",
    "    print('Accuracy: ', \"%.2f\" % cv_results['test_accuracy'].mean())  \n",
    "    print('MCC: ', \"%.2f\" % cv_results['test_mcc'].mean())\n",
    "    print('ROC: ', \"%.2f\" % cv_results['test_rocauc'].mean())  \n",
    "    print('Cohen\\'s Kappa: ', \"%.2f\" % cv_results['test_kappa'].mean())\n",
    "\n",
    "\n",
    "def generate_results(clf, features, labels, classifier, fold_size=5):\n",
    "    cv_results = cross_validate(clf.fit(features, labels), features, labels, scoring=scoring, cv=fold_size)\n",
    "    print_results(cv_results, classifier)"
   ]
  },
  {
   "cell_type": "code",
   "execution_count": 26,
   "metadata": {},
   "outputs": [
    {
     "name": "stdout",
     "output_type": "stream",
     "text": [
      "(C=2, gamma=0.5, kernel='rbf')\n",
      "Sensitivity:  0.66\n",
      "Specificity:  0.73\n",
      "Accuracy:  0.70\n",
      "MCC:  0.39\n",
      "ROC:  0.70\n",
      "Cohen's Kappa:  0.39\n",
      "(C=2, gamma=0.5, kernel='rbf')\n",
      "Sensitivity:  0.48\n",
      "Specificity:  0.82\n",
      "Accuracy:  0.65\n",
      "MCC:  0.32\n",
      "ROC:  0.65\n",
      "Cohen's Kappa:  0.30\n",
      "(C=2, gamma=0.5, kernel='rbf')\n",
      "Sensitivity:  0.29\n",
      "Specificity:  0.86\n",
      "Accuracy:  0.61\n",
      "MCC:  0.19\n",
      "ROC:  0.58\n",
      "Cohen's Kappa:  0.16\n"
     ]
    }
   ],
   "source": [
    "generate_results(clf1, X_c5, Y_c5, '(C=2, gamma=0.5, kernel=\\'rbf\\')')\n",
    "generate_results(clf1, X_c10, Y_c10, '(C=2, gamma=0.5, kernel=\\'rbf\\')')\n",
    "generate_results(clf1, X_c15, Y_c15, '(C=2, gamma=0.5, kernel=\\'rbf\\')')"
   ]
  },
  {
   "cell_type": "code",
   "execution_count": 27,
   "metadata": {},
   "outputs": [
    {
     "name": "stdout",
     "output_type": "stream",
     "text": [
      "(C=1, gamma=0.5, kernel='rbf')\n",
      "Sensitivity:  0.58\n",
      "Specificity:  0.69\n",
      "Accuracy:  0.64\n",
      "MCC:  0.28\n",
      "ROC:  0.64\n",
      "Cohen's Kappa:  0.28\n",
      "(C=1, gamma=0.5, kernel='rbf')\n",
      "Sensitivity:  0.44\n",
      "Specificity:  0.92\n",
      "Accuracy:  0.68\n",
      "MCC:  0.40\n",
      "ROC:  0.68\n",
      "Cohen's Kappa:  0.36\n",
      "(C=1, gamma=0.5, kernel='rbf')\n",
      "Sensitivity:  0.24\n",
      "Specificity:  0.95\n",
      "Accuracy:  0.61\n",
      "MCC:  0.27\n",
      "ROC:  0.59\n",
      "Cohen's Kappa:  0.19\n"
     ]
    }
   ],
   "source": [
    "generate_results(clf1, Xval_c5, Yval_c5, '(C=1, gamma=0.5, kernel=\\'rbf\\')')\n",
    "generate_results(clf1, Xval_c10, Yval_c10, '(C=1, gamma=0.5, kernel=\\'rbf\\')')\n",
    "generate_results(clf1, Xval_c15, Yval_c15, '(C=1, gamma=0.5, kernel=\\'rbf\\')')"
   ]
  },
  {
   "cell_type": "code",
   "execution_count": null,
   "metadata": {},
   "outputs": [],
   "source": []
  }
 ],
 "metadata": {
  "kernelspec": {
   "display_name": "Python 3",
   "language": "python",
   "name": "python3"
  },
  "language_info": {
   "codemirror_mode": {
    "name": "ipython",
    "version": 3
   },
   "file_extension": ".py",
   "mimetype": "text/x-python",
   "name": "python",
   "nbconvert_exporter": "python",
   "pygments_lexer": "ipython3",
   "version": "3.7.1"
  }
 },
 "nbformat": 4,
 "nbformat_minor": 2
}

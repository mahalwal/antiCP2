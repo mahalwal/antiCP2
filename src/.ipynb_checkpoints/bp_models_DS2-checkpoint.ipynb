{
 "cells": [
  {
   "cell_type": "code",
   "execution_count": 48,
   "metadata": {},
   "outputs": [],
   "source": [
    "import pandas as pd\n",
    "from estimator import *\n",
    "from sklearn.metrics import accuracy_score\n",
    "from sklearn.metrics import make_scorer\n",
    "from sklearn.metrics import matthews_corrcoef\n",
    "from sklearn.model_selection import cross_validate\n",
    "from sklearn.metrics import confusion_matrix\n",
    "from sklearn.metrics import roc_auc_score\n",
    "from sklearn.metrics import matthews_corrcoef as MCC\n",
    "from sklearn.metrics import cohen_kappa_score"
   ]
  },
  {
   "cell_type": "code",
   "execution_count": 49,
   "metadata": {},
   "outputs": [],
   "source": [
    "def check_fitted(clf): \n",
    "    return hasattr(clf, \"classes_\")"
   ]
  },
  {
   "cell_type": "code",
   "execution_count": 50,
   "metadata": {},
   "outputs": [],
   "source": [
    "def sensitivity(y_true, y_pred):\n",
    "    tn, fp, fn, tp = confusion_matrix(y_true, y_pred).ravel()\n",
    "    sensitivity = tp / (tp+fn)\n",
    "    return sensitivity\n",
    "\n",
    "def specificity(y_true, y_pred):\n",
    "    tn, fp, fn, tp = confusion_matrix(y_true, y_pred).ravel()\n",
    "    specificity = tn / (tn+fp)\n",
    "    return specificity\n",
    "\n",
    "scoring = {'rocauc': make_scorer(roc_auc_score),\n",
    "           'accuracy': make_scorer(accuracy_score),\n",
    "           'sensitivity': make_scorer(sensitivity), \n",
    "           'specificity': make_scorer(specificity),\n",
    "           'mcc': make_scorer(MCC),\n",
    "           'kappa': make_scorer(cohen_kappa_score)}\n",
    "\n",
    "def print_results(cv_results, classifier):\n",
    "    print(classifier)\n",
    "    print('Sensitivity: ', \"%.2f\" % cv_results['test_sensitivity'].mean())\n",
    "    print('Specificity: ', \"%.2f\" % cv_results['test_specificity'].mean())\n",
    "    print('Accuracy: ', \"%.2f\" % cv_results['test_accuracy'].mean())  \n",
    "    print('MCC: ', \"%.2f\" % cv_results['test_mcc'].mean())\n",
    "    print('ROC: ', \"%.2f\" % cv_results['test_rocauc'].mean())  \n",
    "    print('Cohen\\'s Kappa: ', \"%.2f\" % cv_results['test_kappa'].mean())\n",
    "\n",
    "\n",
    "def generate_results(clf, features, labels, fold_size=5):\n",
    "    cv_results = cross_validate(clf.fit(features, labels), features, labels, scoring=scoring, cv=fold_size)\n",
    "    print_results(cv_results, clf)\n",
    "\n",
    "def print_results_test(y_true, y_pred, y_scores, classifier):\n",
    "    print(classifier)\n",
    "    print('Sensitivity: ', \"%.2f\" % sensitivity(y_true, y_pred))\n",
    "    print('Specificity: ', \"%.2f\" % specificity(y_true, y_pred))\n",
    "    print('Accuracy: ', \"%.2f\" % accuracy_score(y_true, y_pred))  \n",
    "    print('MCC: ', \"%.2f\" % MCC(y_true, y_pred))\n",
    "    print('ROC: ', \"%.2f\" % roc_auc_score(y_true, y_scores))\n",
    "    print('Cohen\\'s Kappa: ', \"%.2f\" % cohen_kappa_score(y_true, y_pred))"
   ]
  },
  {
   "cell_type": "code",
   "execution_count": 51,
   "metadata": {},
   "outputs": [],
   "source": [
    "def evaluate_models_cv(clf1, clf2, clf3, clf4, clf5, X_train, Y_train):\n",
    "    generate_results(clf1, X_train, Y_train)\n",
    "    generate_results(clf2, X_train, Y_train)\n",
    "    generate_results(clf3, X_train, Y_train)\n",
    "    generate_results(clf4, X_train, Y_train)\n",
    "    generate_results(clf5, X_train, Y_train)\n",
    "\n",
    "def evaluate_models_test(clf1, X_valid, Y_valid):\n",
    "\n",
    "    Y_valid_scores = clf1.predict_proba(X_valid)[:, 1]\n",
    "    Y_valid_pred = clf1.predict(X_valid)\n",
    "    print_results_test(Y_valid, Y_valid_pred, Y_valid_scores, clf1)"
   ]
  },
  {
   "cell_type": "code",
   "execution_count": 52,
   "metadata": {},
   "outputs": [],
   "source": [
    "def hyper_parameter_tuning(X_train, Y_train, csvname):\n",
    "    models1 = models1 = { \n",
    "        'SVC': SVC()\n",
    "    }\n",
    "    params1 = {\n",
    "        'SVC': [\n",
    "            {'kernel': ['linear'], 'C': [1,2,3,4,5,6,7,8,9,10]},\n",
    "            {'kernel': ['rbf'], 'C': [1,2,3,4,5,10], 'gamma': [1,0.5,0.01,0.001, 0.0001]}\n",
    "        ]\n",
    "    }\n",
    "    helper1 = EstimatorSelectionHelper(models1, params1)\n",
    "    helper1.fit(X_train, Y_train, cv=5, scoring='roc_auc', n_jobs=-1)\n",
    "    helper1.score_summary(sort_by='mean_score').to_csv(csvname, sep=',')"
   ]
  },
  {
   "cell_type": "code",
   "execution_count": 53,
   "metadata": {},
   "outputs": [],
   "source": [
    "#random_or_not = 'rand_'\n",
    "def preprocessing(xt='c', rand=''):\n",
    "    neg_train_c5 = pd.read_csv('../features/bp/' + xt + 't/neg_train_' + rand +  xt + '5', header=None, names = list(range(5*20+1)))\n",
    "    neg_train_c10 = pd.read_csv('../features/bp/' + xt + 't/neg_train_' + rand +  xt + '10', header=None, names = list(range(10*20+1)))\n",
    "    neg_train_c15 = pd.read_csv('../features/bp/' + xt + 't/neg_train_' + rand +  xt + '15', header=None, names = list(range(15*20+1)))\n",
    "\n",
    "    neg_valid_c5 = pd.read_csv('../features/bp/' + xt + 't/neg_valid_' + rand +  xt + '5', header=None, names = list(range(5*20+1)))\n",
    "    neg_valid_c10 = pd.read_csv('../features/bp/' + xt + 't/neg_valid_' + rand +  xt + '10', header=None, names = list(range(10*20+1)))\n",
    "    neg_valid_c15 = pd.read_csv('../features/bp/' + xt + 't/neg_valid_' + rand +  xt + '15', header=None, names = list(range(15*20+1)))\n",
    "\n",
    "    pos_train_c5 = pd.read_csv('../features/bp/' + xt + 't/pos_train_' + xt + '5', header=None, names = list(range(5*20+1)))\n",
    "    pos_train_c10 = pd.read_csv('../features/bp/' + xt + 't/pos_train_' + xt + '10', header=None, names = list(range(10*20+1)))\n",
    "    pos_train_c15 = pd.read_csv('../features/bp/' + xt + 't/pos_train_' + xt + '15', header=None, names = list(range(15*20+1)))\n",
    "\n",
    "    pos_valid_c5 = pd.read_csv('../features/bp/' + xt + 't/pos_valid_' + xt + '5', header=None, names = list(range(5*20+1)))\n",
    "    pos_valid_c10 = pd.read_csv('../features/bp/' + xt + 't/pos_valid_' + xt + '10', header=None, names = list(range(10*20+1)))\n",
    "    pos_valid_c15 = pd.read_csv('../features/bp/' + xt + 't/pos_valid_' + xt + '15', header=None, names = list(range(15*20+1)))\n",
    "    \n",
    "    \n",
    "    neg_train_c5.drop(neg_train_c5.columns[len(neg_train_c5.columns)-1], axis=1, inplace=True)\n",
    "    neg_train_c10.drop(neg_train_c10.columns[len(neg_train_c10.columns)-1], axis=1, inplace=True)\n",
    "    neg_train_c15.drop(neg_train_c15.columns[len(neg_train_c15.columns)-1], axis=1, inplace=True)\n",
    "\n",
    "\n",
    "    neg_valid_c5.drop(neg_valid_c5.columns[len(neg_valid_c5.columns)-1], axis=1, inplace=True)\n",
    "    neg_valid_c10.drop(neg_valid_c10.columns[len(neg_valid_c10.columns)-1], axis=1, inplace=True)\n",
    "    neg_valid_c15.drop(neg_valid_c15.columns[len(neg_valid_c15.columns)-1], axis=1, inplace=True)\n",
    "\n",
    "    pos_train_c5.drop(pos_train_c5.columns[len(pos_train_c5.columns)-1], axis=1, inplace=True)\n",
    "    pos_train_c10.drop(pos_train_c10.columns[len(pos_train_c10.columns)-1], axis=1, inplace=True)\n",
    "    pos_train_c15.drop(pos_train_c15.columns[len(pos_train_c15.columns)-1], axis=1, inplace=True)\n",
    "\n",
    "    pos_valid_c5.drop(pos_valid_c5.columns[len(pos_valid_c5.columns)-1], axis=1, inplace=True)\n",
    "    pos_valid_c10.drop(pos_valid_c10.columns[len(pos_valid_c10.columns)-1], axis=1, inplace=True)\n",
    "    pos_valid_c15.drop(pos_valid_c15.columns[len(pos_valid_c15.columns)-1], axis=1, inplace=True)\n",
    "    \n",
    "    neg_train_c5.dropna(inplace=True)\n",
    "    neg_train_c10.dropna(inplace=True)\n",
    "    neg_train_c15.dropna(inplace=True)\n",
    "\n",
    "    neg_valid_c5.dropna(inplace=True)\n",
    "    neg_valid_c10.dropna(inplace=True)\n",
    "    neg_valid_c15.dropna(inplace=True)\n",
    "\n",
    "    pos_train_c5.dropna(inplace=True)\n",
    "    pos_train_c10.dropna(inplace=True)\n",
    "    pos_train_c15.dropna(inplace=True)\n",
    "\n",
    "    pos_valid_c5.dropna(inplace=True)\n",
    "    pos_valid_c10.dropna(inplace=True)\n",
    "    pos_valid_c15.dropna(inplace=True)\n",
    "    \n",
    "    \n",
    "    neg_train_c5.reset_index(drop=True, inplace=True)\n",
    "    neg_train_c10.reset_index(drop=True, inplace=True)\n",
    "    neg_train_c15.reset_index(drop=True, inplace=True)\n",
    "\n",
    "\n",
    "    neg_valid_c5.reset_index(drop=True, inplace=True)\n",
    "    neg_valid_c10.reset_index(drop=True, inplace=True)\n",
    "    neg_valid_c15.reset_index(drop=True, inplace=True)\n",
    "\n",
    "    pos_train_c5.reset_index(drop=True, inplace=True)\n",
    "    pos_train_c10.reset_index(drop=True, inplace=True)\n",
    "    pos_train_c15.reset_index(drop=True, inplace=True)\n",
    "\n",
    "    pos_valid_c5.reset_index(drop=True, inplace=True)\n",
    "    pos_valid_c10.reset_index(drop=True, inplace=True)\n",
    "    pos_valid_c15.reset_index(drop=True, inplace=True)\n",
    "    \n",
    "    \n",
    "    neg_train_c5['flag'] = 0\n",
    "    neg_train_c10['flag'] = 0\n",
    "    neg_train_c15['flag'] = 0\n",
    "\n",
    "\n",
    "    neg_valid_c5['flag'] = 0\n",
    "    neg_valid_c10['flag'] = 0\n",
    "    neg_valid_c15['flag'] = 0\n",
    "\n",
    "    pos_train_c5['flag'] = 1\n",
    "    pos_train_c10['flag'] = 1\n",
    "    pos_train_c15['flag'] = 1\n",
    "\n",
    "    pos_valid_c5['flag'] = 1\n",
    "    pos_valid_c10['flag'] = 1\n",
    "    pos_valid_c15['flag'] = 1\n",
    "    \n",
    "    \n",
    "    train_c5 = pd.concat([pos_train_c5, neg_train_c5])\n",
    "    train_c5 = train_c5.sample(frac=1).reset_index(drop=True)\n",
    "    X_c5 = train_c5.drop(train_c5.columns[len(train_c5.columns)-1], axis=1)\n",
    "    Y_c5 = train_c5['flag']\n",
    "\n",
    "    train_c10 = pd.concat([pos_train_c10, neg_train_c10])\n",
    "    train_c10 = train_c10.sample(frac=1).reset_index(drop=True)\n",
    "    X_c10 = train_c10.drop(train_c10.columns[len(train_c10.columns)-1], axis=1)\n",
    "    Y_c10 = train_c10['flag']\n",
    "\n",
    "    train_c15 = pd.concat([pos_train_c15, neg_train_c15])\n",
    "    train_c15 = train_c15.sample(frac=1).reset_index(drop=True)\n",
    "    X_c15 = train_c15.drop(train_c15.columns[len(train_c15.columns)-1], axis=1)\n",
    "    Y_c15 = train_c15['flag']\n",
    "    \n",
    "\n",
    "    valid_c5 = pd.concat([pos_valid_c5, neg_valid_c5])\n",
    "    valid_c5 = valid_c5.sample(frac=1).reset_index(drop=True)\n",
    "    Xval_c5 = valid_c5.drop(valid_c5.columns[len(valid_c5.columns)-1], axis=1)\n",
    "    Yval_c5 = valid_c5['flag']\n",
    "\n",
    "    valid_c10 = pd.concat([pos_valid_c10, neg_valid_c10])\n",
    "    valid_c10 = valid_c10.sample(frac=1).reset_index(drop=True)\n",
    "    Xval_c10 = valid_c10.drop(valid_c10.columns[len(valid_c10.columns)-1], axis=1)\n",
    "    Yval_c10 = valid_c10['flag']\n",
    "\n",
    "    valid_c15 = pd.concat([pos_valid_c15, neg_valid_c15])\n",
    "    valid_c15 = valid_c15.sample(frac=1).reset_index(drop=True)\n",
    "    Xval_c15 = valid_c15.drop(valid_c15.columns[len(valid_c15.columns)-1], axis=1)\n",
    "    Yval_c15 = valid_c15['flag']\n",
    "    \n",
    "    return X_c5, Y_c5, X_c10, Y_c10, X_c15, Y_c15, Xval_c5, Yval_c5, Xval_c10, Yval_c10, Xval_c15, Yval_c15"
   ]
  },
  {
   "cell_type": "code",
   "execution_count": 54,
   "metadata": {},
   "outputs": [],
   "source": [
    "X_c5, Y_c5, X_c10, Y_c10, X_c15, Y_c15, Xval_c5, Yval_c5, Xval_c10, Yval_c10, Xval_c15, Yval_c15 = preprocessing()"
   ]
  },
  {
   "cell_type": "code",
   "execution_count": 55,
   "metadata": {},
   "outputs": [],
   "source": [
    "X_n5, Y_n5, X_n10, Y_n10, X_n15, Y_n15, Xval_n5, Yval_n5, Xval_n10, Yval_n10, Xval_n15, Yval_n15 = preprocessing(xt='n')"
   ]
  },
  {
   "cell_type": "code",
   "execution_count": null,
   "metadata": {},
   "outputs": [],
   "source": []
  },
  {
   "cell_type": "code",
   "execution_count": 34,
   "metadata": {},
   "outputs": [
    {
     "name": "stdout",
     "output_type": "stream",
     "text": [
      "Running GridSearchCV for SVC.\n",
      "Fitting 5 folds for each of 40 candidates, totalling 200 fits\n"
     ]
    },
    {
     "name": "stderr",
     "output_type": "stream",
     "text": [
      "[Parallel(n_jobs=-1)]: Using backend LokyBackend with 4 concurrent workers.\n",
      "[Parallel(n_jobs=-1)]: Done  42 tasks      | elapsed:   24.6s\n",
      "[Parallel(n_jobs=-1)]: Done 192 tasks      | elapsed:  1.6min\n",
      "[Parallel(n_jobs=-1)]: Done 200 out of 200 | elapsed:  1.7min finished\n",
      "C:\\Users\\Manish Mahalwal\\Desktop\\7SEM\\IP\\fresh\\src\\estimator.py:98: FutureWarning: Sorting because non-concatenation axis is not aligned. A future version\n",
      "of pandas will change to not sort by default.\n",
      "\n",
      "To accept the future behavior, pass 'sort=False'.\n",
      "\n",
      "To retain the current behavior and silence the warning, pass 'sort=True'.\n",
      "\n",
      "  df = pd.concat(rows, axis=1).T.sort_values([sort_by], ascending=False)\n",
      "[Parallel(n_jobs=-1)]: Using backend LokyBackend with 4 concurrent workers.\n"
     ]
    },
    {
     "name": "stdout",
     "output_type": "stream",
     "text": [
      "SVC\n",
      "Running GridSearchCV for SVC.\n",
      "Fitting 5 folds for each of 40 candidates, totalling 200 fits\n"
     ]
    },
    {
     "name": "stderr",
     "output_type": "stream",
     "text": [
      "[Parallel(n_jobs=-1)]: Done  42 tasks      | elapsed:   24.5s\n",
      "[Parallel(n_jobs=-1)]: Done 192 tasks      | elapsed:  1.6min\n"
     ]
    },
    {
     "name": "stdout",
     "output_type": "stream",
     "text": [
      "SVC\n"
     ]
    },
    {
     "name": "stderr",
     "output_type": "stream",
     "text": [
      "[Parallel(n_jobs=-1)]: Done 200 out of 200 | elapsed:  1.6min finished\n",
      "C:\\Users\\Manish Mahalwal\\Desktop\\7SEM\\IP\\fresh\\src\\estimator.py:98: FutureWarning: Sorting because non-concatenation axis is not aligned. A future version\n",
      "of pandas will change to not sort by default.\n",
      "\n",
      "To accept the future behavior, pass 'sort=False'.\n",
      "\n",
      "To retain the current behavior and silence the warning, pass 'sort=True'.\n",
      "\n",
      "  df = pd.concat(rows, axis=1).T.sort_values([sort_by], ascending=False)\n"
     ]
    }
   ],
   "source": [
    "hyper_parameter_tuning(X_c5, Y_c5, \"c5.csv\")\n",
    "hyper_parameter_tuning(X_c10, Y_c10, \"c10.csv\")\n",
    "hyper_parameter_tuning(X_c15, Y_c15, \"c15.csv\")"
   ]
  },
  {
   "cell_type": "code",
   "execution_count": 35,
   "metadata": {},
   "outputs": [
    {
     "name": "stderr",
     "output_type": "stream",
     "text": [
      "[Parallel(n_jobs=-1)]: Using backend LokyBackend with 4 concurrent workers.\n"
     ]
    },
    {
     "name": "stdout",
     "output_type": "stream",
     "text": [
      "Running GridSearchCV for SVC.\n",
      "Fitting 5 folds for each of 40 candidates, totalling 200 fits\n"
     ]
    },
    {
     "name": "stderr",
     "output_type": "stream",
     "text": [
      "[Parallel(n_jobs=-1)]: Done  42 tasks      | elapsed:   10.3s\n",
      "[Parallel(n_jobs=-1)]: Done 192 tasks      | elapsed:   45.8s\n",
      "[Parallel(n_jobs=-1)]: Done 200 out of 200 | elapsed:   47.5s finished\n",
      "C:\\Users\\Manish Mahalwal\\Desktop\\7SEM\\IP\\fresh\\src\\estimator.py:98: FutureWarning: Sorting because non-concatenation axis is not aligned. A future version\n",
      "of pandas will change to not sort by default.\n",
      "\n",
      "To accept the future behavior, pass 'sort=False'.\n",
      "\n",
      "To retain the current behavior and silence the warning, pass 'sort=True'.\n",
      "\n",
      "  df = pd.concat(rows, axis=1).T.sort_values([sort_by], ascending=False)\n",
      "[Parallel(n_jobs=-1)]: Using backend LokyBackend with 4 concurrent workers.\n"
     ]
    },
    {
     "name": "stdout",
     "output_type": "stream",
     "text": [
      "SVC\n",
      "Running GridSearchCV for SVC.\n",
      "Fitting 5 folds for each of 40 candidates, totalling 200 fits\n"
     ]
    },
    {
     "name": "stderr",
     "output_type": "stream",
     "text": [
      "[Parallel(n_jobs=-1)]: Done  42 tasks      | elapsed:   23.6s\n",
      "[Parallel(n_jobs=-1)]: Done 192 tasks      | elapsed:  1.5min\n",
      "[Parallel(n_jobs=-1)]: Done 200 out of 200 | elapsed:  1.5min finished\n",
      "C:\\Users\\Manish Mahalwal\\Desktop\\7SEM\\IP\\fresh\\src\\estimator.py:98: FutureWarning: Sorting because non-concatenation axis is not aligned. A future version\n",
      "of pandas will change to not sort by default.\n",
      "\n",
      "To accept the future behavior, pass 'sort=False'.\n",
      "\n",
      "To retain the current behavior and silence the warning, pass 'sort=True'.\n",
      "\n",
      "  df = pd.concat(rows, axis=1).T.sort_values([sort_by], ascending=False)\n",
      "[Parallel(n_jobs=-1)]: Using backend LokyBackend with 4 concurrent workers.\n"
     ]
    },
    {
     "name": "stdout",
     "output_type": "stream",
     "text": [
      "SVC\n",
      "Running GridSearchCV for SVC.\n",
      "Fitting 5 folds for each of 40 candidates, totalling 200 fits\n"
     ]
    },
    {
     "name": "stderr",
     "output_type": "stream",
     "text": [
      "[Parallel(n_jobs=-1)]: Done  42 tasks      | elapsed:   20.6s\n",
      "[Parallel(n_jobs=-1)]: Done 192 tasks      | elapsed:  1.6min\n"
     ]
    },
    {
     "name": "stdout",
     "output_type": "stream",
     "text": [
      "SVC\n"
     ]
    },
    {
     "name": "stderr",
     "output_type": "stream",
     "text": [
      "[Parallel(n_jobs=-1)]: Done 200 out of 200 | elapsed:  1.6min finished\n",
      "C:\\Users\\Manish Mahalwal\\Desktop\\7SEM\\IP\\fresh\\src\\estimator.py:98: FutureWarning: Sorting because non-concatenation axis is not aligned. A future version\n",
      "of pandas will change to not sort by default.\n",
      "\n",
      "To accept the future behavior, pass 'sort=False'.\n",
      "\n",
      "To retain the current behavior and silence the warning, pass 'sort=True'.\n",
      "\n",
      "  df = pd.concat(rows, axis=1).T.sort_values([sort_by], ascending=False)\n"
     ]
    }
   ],
   "source": [
    "hyper_parameter_tuning(X_n5, Y_n5, \"n5.csv\")\n",
    "hyper_parameter_tuning(X_n10, Y_n10, \"n10.csv\")\n",
    "hyper_parameter_tuning(X_n15, Y_n15, \"n15.csv\")"
   ]
  },
  {
   "cell_type": "code",
   "execution_count": null,
   "metadata": {},
   "outputs": [],
   "source": []
  },
  {
   "cell_type": "code",
   "execution_count": 61,
   "metadata": {},
   "outputs": [],
   "source": [
    "clf1 = SVC(C=1, gamma=0.5, kernel='rbf', probability=True)\n",
    "clf2 = SVC(C=10, gamma=0.01, kernel='rbf', probability=True)\n",
    "clf3 = SVC(C=10, gamma=0.01, kernel='rbf', probability=True)\n",
    "clf4 = SVC(C=1, gamma=0.5, kernel='rbf', probability=True)\n",
    "clf5 = SVC(C=1, gamma=0.5, kernel='rbf', probability=True)\n",
    "clf6 = SVC(C=1, gamma=0.01, kernel='rbf', probability=True)"
   ]
  },
  {
   "cell_type": "code",
   "execution_count": 62,
   "metadata": {},
   "outputs": [
    {
     "name": "stdout",
     "output_type": "stream",
     "text": [
      "SVC(C=1, cache_size=200, class_weight=None, coef0=0.0,\n",
      "  decision_function_shape='ovr', degree=3, gamma=0.5, kernel='rbf',\n",
      "  max_iter=-1, probability=True, random_state=None, shrinking=True,\n",
      "  tol=0.001, verbose=False)\n",
      "Sensitivity:  0.64\n",
      "Specificity:  0.72\n",
      "Accuracy:  0.68\n",
      "MCC:  0.36\n",
      "ROC:  0.68\n",
      "Cohen's Kappa:  0.36\n",
      "SVC(C=10, cache_size=200, class_weight=None, coef0=0.0,\n",
      "  decision_function_shape='ovr', degree=3, gamma=0.01, kernel='rbf',\n",
      "  max_iter=-1, probability=True, random_state=None, shrinking=True,\n",
      "  tol=0.001, verbose=False)\n",
      "Sensitivity:  0.71\n",
      "Specificity:  0.67\n",
      "Accuracy:  0.69\n",
      "MCC:  0.37\n",
      "ROC:  0.69\n",
      "Cohen's Kappa:  0.37\n",
      "SVC(C=10, cache_size=200, class_weight=None, coef0=0.0,\n",
      "  decision_function_shape='ovr', degree=3, gamma=0.01, kernel='rbf',\n",
      "  max_iter=-1, probability=True, random_state=None, shrinking=True,\n",
      "  tol=0.001, verbose=False)\n",
      "Sensitivity:  0.59\n",
      "Specificity:  0.70\n",
      "Accuracy:  0.65\n",
      "MCC:  0.30\n",
      "ROC:  0.65\n",
      "Cohen's Kappa:  0.29\n",
      "SVC(C=1, cache_size=200, class_weight=None, coef0=0.0,\n",
      "  decision_function_shape='ovr', degree=3, gamma=0.5, kernel='rbf',\n",
      "  max_iter=-1, probability=True, random_state=None, shrinking=True,\n",
      "  tol=0.001, verbose=False)\n",
      "Sensitivity:  0.57\n",
      "Specificity:  0.70\n",
      "Accuracy:  0.63\n",
      "MCC:  0.27\n",
      "ROC:  0.63\n",
      "Cohen's Kappa:  0.27\n",
      "SVC(C=1, cache_size=200, class_weight=None, coef0=0.0,\n",
      "  decision_function_shape='ovr', degree=3, gamma=0.5, kernel='rbf',\n",
      "  max_iter=-1, probability=True, random_state=None, shrinking=True,\n",
      "  tol=0.001, verbose=False)\n",
      "Sensitivity:  0.44\n",
      "Specificity:  0.85\n",
      "Accuracy:  0.65\n",
      "MCC:  0.32\n",
      "ROC:  0.64\n",
      "Cohen's Kappa:  0.29\n",
      "SVC(C=1, cache_size=200, class_weight=None, coef0=0.0,\n",
      "  decision_function_shape='ovr', degree=3, gamma=0.01, kernel='rbf',\n",
      "  max_iter=-1, probability=True, random_state=None, shrinking=True,\n",
      "  tol=0.001, verbose=False)\n",
      "Sensitivity:  0.35\n",
      "Specificity:  0.87\n",
      "Accuracy:  0.64\n",
      "MCC:  0.27\n",
      "ROC:  0.61\n",
      "Cohen's Kappa:  0.24\n"
     ]
    }
   ],
   "source": [
    "generate_results(clf1, X_n5, Y_n5)\n",
    "generate_results(clf2, X_n10, Y_n10)\n",
    "generate_results(clf3, X_n15, Y_n15)\n",
    "generate_results(clf4, X_c5, Y_c5)\n",
    "generate_results(clf5, X_c10, Y_c10)\n",
    "generate_results(clf6, X_c15, Y_c15)"
   ]
  },
  {
   "cell_type": "code",
   "execution_count": 63,
   "metadata": {},
   "outputs": [
    {
     "data": {
      "text/plain": [
       "SVC(C=1, cache_size=200, class_weight=None, coef0=0.0,\n",
       "  decision_function_shape='ovr', degree=3, gamma=0.01, kernel='rbf',\n",
       "  max_iter=-1, probability=True, random_state=None, shrinking=True,\n",
       "  tol=0.001, verbose=False)"
      ]
     },
     "execution_count": 63,
     "metadata": {},
     "output_type": "execute_result"
    }
   ],
   "source": [
    "clf1.fit(X_n5, Y_n5)\n",
    "clf2.fit(X_n10, Y_n10)\n",
    "clf3.fit(X_n15, Y_n15)\n",
    "clf4.fit(X_c5, Y_c5)\n",
    "clf5.fit(X_c10, Y_c10)\n",
    "clf6.fit(X_c15, Y_c15)"
   ]
  },
  {
   "cell_type": "code",
   "execution_count": 64,
   "metadata": {},
   "outputs": [
    {
     "name": "stdout",
     "output_type": "stream",
     "text": [
      "SVC(C=1, cache_size=200, class_weight=None, coef0=0.0,\n",
      "  decision_function_shape='ovr', degree=3, gamma=0.5, kernel='rbf',\n",
      "  max_iter=-1, probability=True, random_state=None, shrinking=True,\n",
      "  tol=0.001, verbose=False)\n",
      "Sensitivity:  0.70\n",
      "Specificity:  0.70\n",
      "Accuracy:  0.70\n",
      "MCC:  0.40\n",
      "ROC:  0.74\n",
      "Cohen's Kappa:  0.40\n",
      "SVC(C=10, cache_size=200, class_weight=None, coef0=0.0,\n",
      "  decision_function_shape='ovr', degree=3, gamma=0.01, kernel='rbf',\n",
      "  max_iter=-1, probability=True, random_state=None, shrinking=True,\n",
      "  tol=0.001, verbose=False)\n",
      "Sensitivity:  0.72\n",
      "Specificity:  0.64\n",
      "Accuracy:  0.68\n",
      "MCC:  0.36\n",
      "ROC:  0.74\n",
      "Cohen's Kappa:  0.36\n",
      "SVC(C=10, cache_size=200, class_weight=None, coef0=0.0,\n",
      "  decision_function_shape='ovr', degree=3, gamma=0.01, kernel='rbf',\n",
      "  max_iter=-1, probability=True, random_state=None, shrinking=True,\n",
      "  tol=0.001, verbose=False)\n",
      "Sensitivity:  0.66\n",
      "Specificity:  0.70\n",
      "Accuracy:  0.68\n",
      "MCC:  0.36\n",
      "ROC:  0.76\n",
      "Cohen's Kappa:  0.36\n",
      "SVC(C=1, cache_size=200, class_weight=None, coef0=0.0,\n",
      "  decision_function_shape='ovr', degree=3, gamma=0.5, kernel='rbf',\n",
      "  max_iter=-1, probability=True, random_state=None, shrinking=True,\n",
      "  tol=0.001, verbose=False)\n",
      "Sensitivity:  0.56\n",
      "Specificity:  0.70\n",
      "Accuracy:  0.63\n",
      "MCC:  0.26\n",
      "ROC:  0.69\n",
      "Cohen's Kappa:  0.26\n",
      "SVC(C=1, cache_size=200, class_weight=None, coef0=0.0,\n",
      "  decision_function_shape='ovr', degree=3, gamma=0.5, kernel='rbf',\n",
      "  max_iter=-1, probability=True, random_state=None, shrinking=True,\n",
      "  tol=0.001, verbose=False)\n",
      "Sensitivity:  0.51\n",
      "Specificity:  0.81\n",
      "Accuracy:  0.66\n",
      "MCC:  0.34\n",
      "ROC:  0.67\n",
      "Cohen's Kappa:  0.32\n",
      "SVC(C=1, cache_size=200, class_weight=None, coef0=0.0,\n",
      "  decision_function_shape='ovr', degree=3, gamma=0.01, kernel='rbf',\n",
      "  max_iter=-1, probability=True, random_state=None, shrinking=True,\n",
      "  tol=0.001, verbose=False)\n",
      "Sensitivity:  0.39\n",
      "Specificity:  0.88\n",
      "Accuracy:  0.65\n",
      "MCC:  0.31\n",
      "ROC:  0.68\n",
      "Cohen's Kappa:  0.28\n"
     ]
    }
   ],
   "source": [
    "evaluate_models_test(clf1, Xval_n5, Yval_n5)\n",
    "evaluate_models_test(clf2, Xval_n10, Yval_n10)\n",
    "evaluate_models_test(clf3, Xval_n15, Yval_n15)\n",
    "evaluate_models_test(clf4, Xval_c5, Yval_c5)\n",
    "evaluate_models_test(clf5, Xval_c10, Yval_c10)\n",
    "evaluate_models_test(clf6, Xval_c15, Yval_c15)"
   ]
  },
  {
   "cell_type": "code",
   "execution_count": null,
   "metadata": {},
   "outputs": [],
   "source": []
  },
  {
   "cell_type": "code",
   "execution_count": null,
   "metadata": {},
   "outputs": [],
   "source": [
    "#random_or_not = 'rand_'\n",
    "def preprocessing2(xt='c', rand=''):\n",
    "    neg_train_c5 = pd.read_csv('../features/bp/' + xt + 't/neg_train_' + rand +  xt + '5', header=None, names = list(range(5*20+1)))\n",
    "    neg_train_c10 = pd.read_csv('../features/bp/' + xt + 't/neg_train_' + rand +  xt + '10', header=None, names = list(range(10*20+1)))\n",
    "    neg_train_c15 = pd.read_csv('../features/bp/' + xt + 't/neg_train_' + rand +  xt + '15', header=None, names = list(range(15*20+1)))\n",
    "\n",
    "    neg_valid_c5 = pd.read_csv('../features/bp/' + xt + 't/neg_valid_' + rand +  xt + '5', header=None, names = list(range(5*20+1)))\n",
    "    neg_valid_c10 = pd.read_csv('../features/bp/' + xt + 't/neg_valid_' + rand +  xt + '10', header=None, names = list(range(10*20+1)))\n",
    "    neg_valid_c15 = pd.read_csv('../features/bp/' + xt + 't/neg_valid_' + rand +  xt + '15', header=None, names = list(range(15*20+1)))\n",
    "\n",
    "    pos_train_c5 = pd.read_csv('../features/bp/' + xt + 't/pos_train_' + xt + '5', header=None, names = list(range(5*20+1)))\n",
    "    pos_train_c10 = pd.read_csv('../features/bp/' + xt + 't/pos_train_' + xt + '10', header=None, names = list(range(10*20+1)))\n",
    "    pos_train_c15 = pd.read_csv('../features/bp/' + xt + 't/pos_train_' + xt + '15', header=None, names = list(range(15*20+1)))\n",
    "\n",
    "    pos_valid_c5 = pd.read_csv('../features/bp/' + xt + 't/pos_valid_' + xt + '5', header=None, names = list(range(5*20+1)))\n",
    "    pos_valid_c10 = pd.read_csv('../features/bp/' + xt + 't/pos_valid_' + xt + '10', header=None, names = list(range(10*20+1)))\n",
    "    pos_valid_c15 = pd.read_csv('../features/bp/' + xt + 't/pos_valid_' + xt + '15', header=None, names = list(range(15*20+1)))\n",
    "    \n",
    "    \n",
    "    neg_train_c5.drop(neg_train_c5.columns[len(neg_train_c5.columns)-1], axis=1, inplace=True)\n",
    "    neg_train_c10.drop(neg_train_c10.columns[len(neg_train_c10.columns)-1], axis=1, inplace=True)\n",
    "    neg_train_c15.drop(neg_train_c15.columns[len(neg_train_c15.columns)-1], axis=1, inplace=True)\n",
    "\n",
    "\n",
    "    neg_valid_c5.drop(neg_valid_c5.columns[len(neg_valid_c5.columns)-1], axis=1, inplace=True)\n",
    "    neg_valid_c10.drop(neg_valid_c10.columns[len(neg_valid_c10.columns)-1], axis=1, inplace=True)\n",
    "    neg_valid_c15.drop(neg_valid_c15.columns[len(neg_valid_c15.columns)-1], axis=1, inplace=True)\n",
    "\n",
    "    pos_train_c5.drop(pos_train_c5.columns[len(pos_train_c5.columns)-1], axis=1, inplace=True)\n",
    "    pos_train_c10.drop(pos_train_c10.columns[len(pos_train_c10.columns)-1], axis=1, inplace=True)\n",
    "    pos_train_c15.drop(pos_train_c15.columns[len(pos_train_c15.columns)-1], axis=1, inplace=True)\n",
    "\n",
    "    pos_valid_c5.drop(pos_valid_c5.columns[len(pos_valid_c5.columns)-1], axis=1, inplace=True)\n",
    "    pos_valid_c10.drop(pos_valid_c10.columns[len(pos_valid_c10.columns)-1], axis=1, inplace=True)\n",
    "    pos_valid_c15.drop(pos_valid_c15.columns[len(pos_valid_c15.columns)-1], axis=1, inplace=True)\n",
    "    \n",
    "    \n",
    "    return neg_train_c5, neg_train_c10, neg_train_c15, neg_valid_c5, neg_valid_c10, neg_valid_c15, pos_train_c5, pos_train_c10, pos_train_c15, pos_valid_c5, pos_valid_c10, pos_valid_c15"
   ]
  },
  {
   "cell_type": "code",
   "execution_count": 94,
   "metadata": {},
   "outputs": [],
   "source": [
    "def preprocessing3(neg_train_c5, neg_train_c10, neg_train_c15, neg_valid_c5, neg_valid_c10, neg_valid_c15, pos_train_c5, pos_train_c10, pos_train_c15, pos_valid_c5, pos_valid_c10, pos_valid_c15):\n",
    "       \n",
    "    neg_train_c5.dropna(inplace=True)\n",
    "    neg_train_c10.dropna(inplace=True)\n",
    "    neg_train_c15.dropna(inplace=True)\n",
    "\n",
    "    neg_valid_c5.dropna(inplace=True)\n",
    "    neg_valid_c10.dropna(inplace=True)\n",
    "    neg_valid_c15.dropna(inplace=True)\n",
    "\n",
    "    pos_train_c5.dropna(inplace=True)\n",
    "    pos_train_c10.dropna(inplace=True)\n",
    "    pos_train_c15.dropna(inplace=True)\n",
    "\n",
    "    pos_valid_c5.dropna(inplace=True)\n",
    "    pos_valid_c10.dropna(inplace=True)\n",
    "    pos_valid_c15.dropna(inplace=True)\n",
    "    \n",
    "    \n",
    "    neg_train_c5.reset_index(drop=True, inplace=True)\n",
    "    neg_train_c10.reset_index(drop=True, inplace=True)\n",
    "    neg_train_c15.reset_index(drop=True, inplace=True)\n",
    "\n",
    "\n",
    "    neg_valid_c5.reset_index(drop=True, inplace=True)\n",
    "    neg_valid_c10.reset_index(drop=True, inplace=True)\n",
    "    neg_valid_c15.reset_index(drop=True, inplace=True)\n",
    "\n",
    "    pos_train_c5.reset_index(drop=True, inplace=True)\n",
    "    pos_train_c10.reset_index(drop=True, inplace=True)\n",
    "    pos_train_c15.reset_index(drop=True, inplace=True)\n",
    "\n",
    "    pos_valid_c5.reset_index(drop=True, inplace=True)\n",
    "    pos_valid_c10.reset_index(drop=True, inplace=True)\n",
    "    pos_valid_c15.reset_index(drop=True, inplace=True)\n",
    "    \n",
    "    \n",
    "    neg_train_c5['flag'] = 0\n",
    "    neg_train_c10['flag'] = 0\n",
    "    neg_train_c15['flag'] = 0\n",
    "\n",
    "\n",
    "    neg_valid_c5['flag'] = 0\n",
    "    neg_valid_c10['flag'] = 0\n",
    "    neg_valid_c15['flag'] = 0\n",
    "\n",
    "    pos_train_c5['flag'] = 1\n",
    "    pos_train_c10['flag'] = 1\n",
    "    pos_train_c15['flag'] = 1\n",
    "\n",
    "    pos_valid_c5['flag'] = 1\n",
    "    pos_valid_c10['flag'] = 1\n",
    "    pos_valid_c15['flag'] = 1\n",
    "    \n",
    "    \n",
    "    train_c5 = pd.concat([pos_train_c5, neg_train_c5])\n",
    "    train_c5 = train_c5.sample(frac=1).reset_index(drop=True)\n",
    "    X_c5 = train_c5.drop(train_c5.columns[len(train_c5.columns)-1], axis=1)\n",
    "    Y_c5 = train_c5['flag']\n",
    "\n",
    "    train_c10 = pd.concat([pos_train_c10, neg_train_c10])\n",
    "    train_c10 = train_c10.sample(frac=1).reset_index(drop=True)\n",
    "    X_c10 = train_c10.drop(train_c10.columns[len(train_c10.columns)-1], axis=1)\n",
    "    Y_c10 = train_c10['flag']\n",
    "\n",
    "    train_c15 = pd.concat([pos_train_c15, neg_train_c15])\n",
    "    train_c15 = train_c15.sample(frac=1).reset_index(drop=True)\n",
    "    X_c15 = train_c15.drop(train_c15.columns[len(train_c15.columns)-1], axis=1)\n",
    "    Y_c15 = train_c15['flag']\n",
    "    \n",
    "\n",
    "    valid_c5 = pd.concat([pos_valid_c5, neg_valid_c5])\n",
    "    valid_c5 = valid_c5.sample(frac=1).reset_index(drop=True)\n",
    "    Xval_c5 = valid_c5.drop(valid_c5.columns[len(valid_c5.columns)-1], axis=1)\n",
    "    Yval_c5 = valid_c5['flag']\n",
    "\n",
    "    valid_c10 = pd.concat([pos_valid_c10, neg_valid_c10])\n",
    "    valid_c10 = valid_c10.sample(frac=1).reset_index(drop=True)\n",
    "    Xval_c10 = valid_c10.drop(valid_c10.columns[len(valid_c10.columns)-1], axis=1)\n",
    "    Yval_c10 = valid_c10['flag']\n",
    "\n",
    "    valid_c15 = pd.concat([pos_valid_c15, neg_valid_c15])\n",
    "    valid_c15 = valid_c15.sample(frac=1).reset_index(drop=True)\n",
    "    Xval_c15 = valid_c15.drop(valid_c15.columns[len(valid_c15.columns)-1], axis=1)\n",
    "    Yval_c15 = valid_c15['flag']\n",
    "    \n",
    "    return X_c5, Y_c5, X_c10, Y_c10, X_c15, Y_c15, Xval_c5, Yval_c5, Xval_c10, Yval_c10, Xval_c15, Yval_c15"
   ]
  },
  {
   "cell_type": "code",
   "execution_count": 66,
   "metadata": {},
   "outputs": [],
   "source": [
    "neg_train_c5, neg_train_c10, neg_train_c15, neg_valid_c5, neg_valid_c10, neg_valid_c15, pos_train_c5, pos_train_c10, pos_train_c15, pos_valid_c5, pos_valid_c10, pos_valid_c15 = preprocessing2()"
   ]
  },
  {
   "cell_type": "code",
   "execution_count": 67,
   "metadata": {},
   "outputs": [],
   "source": [
    "neg_train_n5, neg_train_n10, neg_train_n15, neg_valid_n5, neg_valid_n10, neg_valid_n15, pos_train_n5, pos_train_n10, pos_train_n15, pos_valid_n5, pos_valid_n10, pos_valid_n15 = preprocessing2(xt='n')"
   ]
  },
  {
   "cell_type": "code",
   "execution_count": 86,
   "metadata": {},
   "outputs": [],
   "source": [
    "neg_train_c5 = pd.concat([neg_train_n5, neg_train_c5], axis=1)\n",
    "neg_train_c10 = pd.concat([neg_train_n10, neg_train_c10], axis=1)\n",
    "neg_train_c15 = pd.concat([neg_train_n15, neg_train_c15], axis=1)\n",
    "neg_valid_c5 = pd.concat([neg_valid_n5, neg_valid_c5], axis=1)\n",
    "neg_valid_c10 = pd.concat([neg_valid_n10, neg_valid_c10], axis=1)\n",
    "neg_valid_c15 = pd.concat([neg_valid_n15, neg_valid_c15], axis=1)\n",
    "pos_train_c5 = pd.concat([pos_train_n5, pos_train_c5], axis=1)\n",
    "pos_train_c10 = pd.concat([pos_train_n10, pos_train_c10], axis=1)\n",
    "pos_train_c15 = pd.concat([pos_train_n15, pos_train_c15], axis=1)\n",
    "pos_valid_c5 = pd.concat([pos_valid_n5, pos_valid_c5], axis=1)\n",
    "pos_valid_c10 = pd.concat([pos_valid_n10, pos_valid_c10], axis=1)\n",
    "pos_valid_c15 = pd.concat([pos_valid_n15, pos_valid_c15], axis=1)"
   ]
  },
  {
   "cell_type": "code",
   "execution_count": 95,
   "metadata": {},
   "outputs": [],
   "source": [
    "X_c5, Y_c5, X_c10, Y_c10, X_c15, Y_c15, Xval_c5, Yval_c5, Xval_c10, Yval_c10, Xval_c15, Yval_c15 = preprocessing3(neg_train_c5, neg_train_c10, neg_train_c15, neg_valid_c5, neg_valid_c10, neg_valid_c15, pos_train_c5, pos_train_c10, pos_train_c15, pos_valid_c5, pos_valid_c10, pos_valid_c15)"
   ]
  },
  {
   "cell_type": "code",
   "execution_count": null,
   "metadata": {},
   "outputs": [
    {
     "name": "stdout",
     "output_type": "stream",
     "text": [
      "Running GridSearchCV for SVC.\n",
      "Fitting 5 folds for each of 40 candidates, totalling 200 fits\n"
     ]
    },
    {
     "name": "stderr",
     "output_type": "stream",
     "text": [
      "[Parallel(n_jobs=-1)]: Using backend LokyBackend with 4 concurrent workers.\n",
      "[Parallel(n_jobs=-1)]: Done  42 tasks      | elapsed:   57.0s\n",
      "[Parallel(n_jobs=-1)]: Done 192 tasks      | elapsed:  2.7min\n",
      "[Parallel(n_jobs=-1)]: Done 200 out of 200 | elapsed:  2.8min finished\n",
      "C:\\Users\\Manish Mahalwal\\Desktop\\7SEM\\IP\\fresh\\src\\estimator.py:98: FutureWarning: Sorting because non-concatenation axis is not aligned. A future version\n",
      "of pandas will change to not sort by default.\n",
      "\n",
      "To accept the future behavior, pass 'sort=False'.\n",
      "\n",
      "To retain the current behavior and silence the warning, pass 'sort=True'.\n",
      "\n",
      "  df = pd.concat(rows, axis=1).T.sort_values([sort_by], ascending=False)\n",
      "[Parallel(n_jobs=-1)]: Using backend LokyBackend with 4 concurrent workers.\n"
     ]
    },
    {
     "name": "stdout",
     "output_type": "stream",
     "text": [
      "SVC\n",
      "Running GridSearchCV for SVC.\n",
      "Fitting 5 folds for each of 40 candidates, totalling 200 fits\n"
     ]
    }
   ],
   "source": [
    "hyper_parameter_tuning(X_c5, Y_c5, \"nc5.csv\")\n",
    "hyper_parameter_tuning(X_c10, Y_c10, \"nc10.csv\")\n",
    "hyper_parameter_tuning(X_c15, Y_c15, \"nc15.csv\")"
   ]
  },
  {
   "cell_type": "code",
   "execution_count": null,
   "metadata": {},
   "outputs": [],
   "source": [
    "clf1 = SVC(C=1, gamma=0.5, kernel='rbf', probability=True)\n",
    "clf2 = SVC(C=10, gamma=0.01, kernel='rbf', probability=True)\n",
    "clf3 = SVC(C=10, gamma=0.01, kernel='rbf', probability=True)"
   ]
  },
  {
   "cell_type": "code",
   "execution_count": null,
   "metadata": {},
   "outputs": [],
   "source": [
    "generate_results(clf1, X_c5, Y_c5)\n",
    "generate_results(clf2, X_c10, Y_c10)\n",
    "generate_results(clf3, X_c15, Y_c15)"
   ]
  },
  {
   "cell_type": "code",
   "execution_count": null,
   "metadata": {},
   "outputs": [],
   "source": [
    "clf1.fit(X_c5, Y_c5)\n",
    "clf2.fit(X_c10, Y_c10)\n",
    "clf3.fit(X_c15, Y_c15)"
   ]
  },
  {
   "cell_type": "code",
   "execution_count": null,
   "metadata": {},
   "outputs": [],
   "source": [
    "evaluate_models_test(clf1, Xval_c5, Yval_c5)\n",
    "evaluate_models_test(clf2, Xval_c10, Yval_c10)\n",
    "evaluate_models_test(clf3, Xval_c15, Yval_c15)"
   ]
  }
 ],
 "metadata": {
  "kernelspec": {
   "display_name": "Python 3",
   "language": "python",
   "name": "python3"
  },
  "language_info": {
   "codemirror_mode": {
    "name": "ipython",
    "version": 3
   },
   "file_extension": ".py",
   "mimetype": "text/x-python",
   "name": "python",
   "nbconvert_exporter": "python",
   "pygments_lexer": "ipython3",
   "version": "3.7.1"
  }
 },
 "nbformat": 4,
 "nbformat_minor": 2
}

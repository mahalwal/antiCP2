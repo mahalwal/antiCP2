{
 "cells": [
  {
   "cell_type": "code",
   "execution_count": 1,
   "metadata": {},
   "outputs": [],
   "source": [
    "import pandas as pd"
   ]
  },
  {
   "cell_type": "code",
   "execution_count": 2,
   "metadata": {},
   "outputs": [],
   "source": [
    "pos_train=pd.read_csv('../features/aac/pos_train')"
   ]
  },
  {
   "cell_type": "code",
   "execution_count": 3,
   "metadata": {},
   "outputs": [
    {
     "data": {
      "text/plain": [
       "Index(['A', 'C', 'D', 'E', 'F', 'G', 'H', 'I', 'K', 'L', 'M', 'N', 'P', 'Q',\n",
       "       'R', 'S', 'T', 'V', 'W', 'Y', 'Unnamed: 20'],\n",
       "      dtype='object')"
      ]
     },
     "execution_count": 3,
     "metadata": {},
     "output_type": "execute_result"
    }
   ],
   "source": [
    "pos_train.columns"
   ]
  },
  {
   "cell_type": "code",
   "execution_count": 4,
   "metadata": {},
   "outputs": [],
   "source": [
    "pos_train = pos_train.drop(['Unnamed: 20'], axis=1)"
   ]
  },
  {
   "cell_type": "code",
   "execution_count": 5,
   "metadata": {},
   "outputs": [],
   "source": [
    "neg_train = pd.read_csv('../features/aac/neg_train')"
   ]
  },
  {
   "cell_type": "code",
   "execution_count": 6,
   "metadata": {},
   "outputs": [],
   "source": [
    "neg_train = neg_train.drop(['Unnamed: 20'], axis=1)"
   ]
  },
  {
   "cell_type": "code",
   "execution_count": 7,
   "metadata": {},
   "outputs": [],
   "source": [
    "pos_train['flag'] = 1"
   ]
  },
  {
   "cell_type": "code",
   "execution_count": 8,
   "metadata": {},
   "outputs": [],
   "source": [
    "neg_train['flag'] = 0"
   ]
  },
  {
   "cell_type": "code",
   "execution_count": 9,
   "metadata": {},
   "outputs": [],
   "source": [
    "from estimator import *"
   ]
  },
  {
   "cell_type": "code",
   "execution_count": 10,
   "metadata": {},
   "outputs": [],
   "source": [
    "train = pd.concat([pos_train, neg_train])"
   ]
  },
  {
   "cell_type": "code",
   "execution_count": 11,
   "metadata": {},
   "outputs": [],
   "source": [
    "train = train.sample(frac=1).reset_index(drop=True)"
   ]
  },
  {
   "cell_type": "code",
   "execution_count": 12,
   "metadata": {},
   "outputs": [],
   "source": [
    "X = train[train.columns[:20]]"
   ]
  },
  {
   "cell_type": "code",
   "execution_count": 13,
   "metadata": {},
   "outputs": [],
   "source": [
    "Y = train['flag']"
   ]
  },
  {
   "cell_type": "code",
   "execution_count": 14,
   "metadata": {},
   "outputs": [],
   "source": [
    "helper1 = EstimatorSelectionHelper(models1, params1)"
   ]
  },
  {
   "cell_type": "code",
   "execution_count": 15,
   "metadata": {},
   "outputs": [
    {
     "data": {
      "text/plain": [
       "{'ExtraTreesClassifier': {'n_estimators': [10, 20, 30, 40, 50]},\n",
       " 'RandomForestClassifier': {'n_estimators': [100, 200, 500],\n",
       "  'max_features': ['auto', 'sqrt', 'log2'],\n",
       "  'max_depth': [4, 5, 6, 7, 8],\n",
       "  'criterion': ['gini', 'entropy']},\n",
       " 'SVC': [{'kernel': ['linear'], 'C': [1, 2, 3, 4, 5, 6, 7, 8, 9, 10]},\n",
       "  {'kernel': ['rbf'],\n",
       "   'C': [1, 2, 3, 4, 5, 10],\n",
       "   'gamma': [1, 0.5, 0.01, 0.001, 0.0001]}],\n",
       " 'Ridge Classifier': {'alpha': [1, 0.1, 0.01, 0.001, 0.0001, 0]},\n",
       " 'mlp': {'solver': ['lbfgs'],\n",
       "  'max_iter': [1000, 1500, 2000],\n",
       "  'alpha': array([1.e-01, 1.e-04, 1.e-07]),\n",
       "  'hidden_layer_sizes': array([10, 13]),\n",
       "  'random_state': [0, 1, 3, 9]},\n",
       " 'knn': {'n_neighbors': [5, 6, 7, 8, 9, 10],\n",
       "  'weights': ['uniform', 'distance'],\n",
       "  'algorithm': ['auto', 'ball_tree', 'kd_tree', 'brute']}}"
      ]
     },
     "execution_count": 15,
     "metadata": {},
     "output_type": "execute_result"
    }
   ],
   "source": [
    "params1"
   ]
  },
  {
   "cell_type": "code",
   "execution_count": 16,
   "metadata": {},
   "outputs": [
    {
     "name": "stdout",
     "output_type": "stream",
     "text": [
      "Running GridSearchCV for ExtraTreesClassifier.\n",
      "Fitting 10 folds for each of 5 candidates, totalling 50 fits\n"
     ]
    },
    {
     "name": "stderr",
     "output_type": "stream",
     "text": [
      "[Parallel(n_jobs=-1)]: Using backend LokyBackend with 4 concurrent workers.\n",
      "[Parallel(n_jobs=-1)]: Done  42 tasks      | elapsed:    8.9s\n",
      "[Parallel(n_jobs=-1)]: Done  50 out of  50 | elapsed:    9.3s finished\n",
      "[Parallel(n_jobs=-1)]: Using backend LokyBackend with 4 concurrent workers.\n"
     ]
    },
    {
     "name": "stdout",
     "output_type": "stream",
     "text": [
      "Running GridSearchCV for RandomForestClassifier.\n",
      "Fitting 10 folds for each of 90 candidates, totalling 900 fits\n"
     ]
    },
    {
     "name": "stderr",
     "output_type": "stream",
     "text": [
      "[Parallel(n_jobs=-1)]: Done  42 tasks      | elapsed:    6.7s\n",
      "[Parallel(n_jobs=-1)]: Done 192 tasks      | elapsed:   38.4s\n",
      "[Parallel(n_jobs=-1)]: Done 442 tasks      | elapsed:  1.8min\n",
      "[Parallel(n_jobs=-1)]: Done 792 tasks      | elapsed:  3.4min\n",
      "[Parallel(n_jobs=-1)]: Done 900 out of 900 | elapsed:  4.2min finished\n",
      "C:\\ProgramData\\Anaconda3\\lib\\site-packages\\sklearn\\model_selection\\_search.py:841: DeprecationWarning: The default of the `iid` parameter will change from True to False in version 0.22 and will be removed in 0.24. This will change numeric results when test-set sizes are unequal.\n",
      "  DeprecationWarning)\n",
      "[Parallel(n_jobs=-1)]: Using backend LokyBackend with 4 concurrent workers.\n"
     ]
    },
    {
     "name": "stdout",
     "output_type": "stream",
     "text": [
      "Running GridSearchCV for SVC.\n",
      "Fitting 10 folds for each of 40 candidates, totalling 400 fits\n"
     ]
    },
    {
     "name": "stderr",
     "output_type": "stream",
     "text": [
      "[Parallel(n_jobs=-1)]: Done  42 tasks      | elapsed:  2.3min\n",
      "[Parallel(n_jobs=-1)]: Done 192 tasks      | elapsed: 10.9min\n",
      "[Parallel(n_jobs=-1)]: Done 400 out of 400 | elapsed: 11.4min finished\n",
      "[Parallel(n_jobs=-1)]: Using backend LokyBackend with 4 concurrent workers.\n"
     ]
    },
    {
     "name": "stdout",
     "output_type": "stream",
     "text": [
      "Running GridSearchCV for Ridge Classifier.\n",
      "Fitting 10 folds for each of 6 candidates, totalling 60 fits\n"
     ]
    },
    {
     "name": "stderr",
     "output_type": "stream",
     "text": [
      "[Parallel(n_jobs=-1)]: Done  60 out of  60 | elapsed:    0.4s finished\n",
      "[Parallel(n_jobs=-1)]: Using backend LokyBackend with 4 concurrent workers.\n"
     ]
    },
    {
     "name": "stdout",
     "output_type": "stream",
     "text": [
      "Running GridSearchCV for knn.\n",
      "Fitting 10 folds for each of 48 candidates, totalling 480 fits\n"
     ]
    },
    {
     "name": "stderr",
     "output_type": "stream",
     "text": [
      "[Parallel(n_jobs=-1)]: Done  76 tasks      | elapsed:    3.1s\n",
      "[Parallel(n_jobs=-1)]: Done 376 tasks      | elapsed:   14.4s\n",
      "[Parallel(n_jobs=-1)]: Done 480 out of 480 | elapsed:   19.8s finished\n",
      "[Parallel(n_jobs=-1)]: Using backend LokyBackend with 4 concurrent workers.\n"
     ]
    },
    {
     "name": "stdout",
     "output_type": "stream",
     "text": [
      "Running GridSearchCV for mlp.\n",
      "Fitting 10 folds for each of 72 candidates, totalling 720 fits\n"
     ]
    },
    {
     "name": "stderr",
     "output_type": "stream",
     "text": [
      "[Parallel(n_jobs=-1)]: Done  42 tasks      | elapsed:   18.8s\n",
      "[Parallel(n_jobs=-1)]: Done 192 tasks      | elapsed:  1.8min\n",
      "[Parallel(n_jobs=-1)]: Done 442 tasks      | elapsed:  4.0min\n",
      "[Parallel(n_jobs=-1)]: Done 720 out of 720 | elapsed:  6.7min finished\n"
     ]
    }
   ],
   "source": [
    "helper1.fit(X, Y, scoring='accuracy', n_jobs=-1)"
   ]
  },
  {
   "cell_type": "code",
   "execution_count": 17,
   "metadata": {},
   "outputs": [
    {
     "name": "stderr",
     "output_type": "stream",
     "text": [
      "C:\\Users\\Manish Mahalwal\\Desktop\\7SEM\\IP\\fresh\\src\\estimator.py:98: FutureWarning: Sorting because non-concatenation axis is not aligned. A future version\n",
      "of pandas will change to not sort by default.\n",
      "\n",
      "To accept the future behavior, pass 'sort=False'.\n",
      "\n",
      "To retain the current behavior and silence the warning, pass 'sort=True'.\n",
      "\n",
      "  df = pd.concat(rows, axis=1).T.sort_values([sort_by], ascending=False)\n"
     ]
    },
    {
     "name": "stdout",
     "output_type": "stream",
     "text": [
      "ExtraTreesClassifier\n",
      "RandomForestClassifier\n",
      "SVC\n",
      "Ridge Classifier\n",
      "knn\n",
      "mlp\n",
      "                  estimator min_score mean_score max_score  std_score    C  \\\n",
      "123                     SVC   0.63871   0.699644      0.75  0.0362507    4   \n",
      "113                     SVC  0.625806   0.699602  0.762821  0.0427455    2   \n",
      "118                     SVC  0.641026   0.698353      0.75  0.0346716    3   \n",
      "128                     SVC  0.647436   0.693891  0.730769  0.0296882    5   \n",
      "133                     SVC  0.608974   0.690702  0.737179  0.0382246   10   \n",
      "79   RandomForestClassifier  0.596154   0.689874  0.794872  0.0598342  NaN   \n",
      "32   RandomForestClassifier  0.621795   0.689275   0.75641  0.0445561  NaN   \n",
      "78   RandomForestClassifier  0.608974   0.689258  0.769231  0.0496584  NaN   \n",
      "34   RandomForestClassifier  0.602564   0.689233  0.782051  0.0553327  NaN   \n",
      "39   RandomForestClassifier  0.602564    0.68865  0.762821  0.0463193  NaN   \n",
      "92   RandomForestClassifier   0.61039   0.688621  0.782051  0.0491155  NaN   \n",
      "88   RandomForestClassifier  0.596154   0.688617  0.788462  0.0562306  NaN   \n",
      "85   RandomForestClassifier  0.596154   0.688584  0.769231  0.0570925  NaN   \n",
      "81   RandomForestClassifier  0.596154    0.68798   0.75641  0.0546906  NaN   \n",
      "37   RandomForestClassifier  0.603896   0.687926  0.769231  0.0543171  NaN   \n",
      "40   RandomForestClassifier  0.603896   0.687318  0.782051  0.0528495  NaN   \n",
      "24   RandomForestClassifier  0.597403   0.687306  0.788462  0.0545572  NaN   \n",
      "90   RandomForestClassifier  0.602564    0.68669  0.769231  0.0524282  NaN   \n",
      "25   RandomForestClassifier  0.602564   0.686677  0.782051  0.0525533  NaN   \n",
      "35   RandomForestClassifier  0.615385   0.686111   0.75641  0.0407346  NaN   \n",
      "82   RandomForestClassifier  0.589744   0.685424  0.769231  0.0518242  NaN   \n",
      "108                     SVC  0.612903   0.684825   0.74359  0.0373133    1   \n",
      "89   RandomForestClassifier  0.602564   0.684792  0.775641  0.0516393  NaN   \n",
      "46   RandomForestClassifier  0.621795   0.684775  0.769231  0.0441058  NaN   \n",
      "84   RandomForestClassifier  0.602564   0.684738   0.75641  0.0545776  NaN   \n",
      "44   RandomForestClassifier  0.608974   0.684159      0.75  0.0450512  NaN   \n",
      "27   RandomForestClassifier  0.615385   0.684134  0.737179   0.041127  NaN   \n",
      "73   RandomForestClassifier  0.596154   0.684113  0.762821  0.0515185  NaN   \n",
      "75   RandomForestClassifier  0.615385   0.684105  0.769231  0.0468739  NaN   \n",
      "31   RandomForestClassifier  0.596154   0.684101  0.775641  0.0544713  NaN   \n",
      "..                      ...       ...        ...       ...        ...  ...   \n",
      "170                     knn  0.538462   0.631529  0.688312  0.0483865  NaN   \n",
      "146                     knn  0.538462   0.631529  0.688312  0.0483865  NaN   \n",
      "158                     knn  0.551282    0.63152  0.688312  0.0451153  NaN   \n",
      "194                     mlp  0.525641   0.625713  0.660256  0.0378552  NaN   \n",
      "190                     mlp  0.551282   0.625709  0.660256  0.0300344  NaN   \n",
      "198                     mlp  0.525641   0.625072  0.660256  0.0378619  NaN   \n",
      "246                     mlp  0.551282   0.623769  0.679487  0.0385866  NaN   \n",
      "218                     mlp  0.544872   0.623761  0.692308  0.0384097  NaN   \n",
      "214                     mlp  0.538462   0.623761  0.692308  0.0396727  NaN   \n",
      "222                     mlp  0.544872   0.622462  0.692308  0.0396037  NaN   \n",
      "139        Ridge Classifier  0.519231   0.622429  0.698718  0.0502728  NaN   \n",
      "140        Ridge Classifier  0.519231   0.622429  0.698718  0.0502728  NaN   \n",
      "138        Ridge Classifier  0.519231   0.622429  0.698718  0.0502728  NaN   \n",
      "137        Ridge Classifier  0.519231   0.622429  0.698718  0.0502728  NaN   \n",
      "136        Ridge Classifier  0.519231   0.622429  0.698718  0.0502728  NaN   \n",
      "135        Ridge Classifier  0.519231   0.622429  0.698718  0.0502728  NaN   \n",
      "238                     mlp  0.551282   0.621201  0.685897  0.0388952  NaN   \n",
      "242                     mlp  0.551282   0.620548  0.673077  0.0366692  NaN   \n",
      "126                     SVC  0.470968   0.515045  0.544872  0.0251256    5   \n",
      "121                     SVC  0.470968   0.515045  0.544872  0.0251256    4   \n",
      "116                     SVC  0.470968   0.515045  0.544872  0.0251256    3   \n",
      "111                     SVC  0.470968   0.515045  0.544872  0.0251256    2   \n",
      "131                     SVC  0.470968   0.515045  0.544872  0.0251256   10   \n",
      "106                     SVC  0.470968   0.514404  0.544872  0.0260565    1   \n",
      "125                     SVC  0.470968   0.513763  0.544872  0.0258502    5   \n",
      "120                     SVC  0.470968   0.513763  0.544872  0.0258502    4   \n",
      "115                     SVC  0.470968   0.513763  0.544872  0.0258502    3   \n",
      "110                     SVC  0.470968   0.513763  0.544872  0.0258502    2   \n",
      "130                     SVC  0.470968   0.513763  0.544872  0.0258502   10   \n",
      "105                     SVC  0.470968   0.511183  0.544872  0.0253334    1   \n",
      "\n",
      "     algorithm   alpha criterion  gamma hidden_layer_sizes kernel max_depth  \\\n",
      "123        NaN     NaN       NaN  0.001                NaN    rbf       NaN   \n",
      "113        NaN     NaN       NaN  0.001                NaN    rbf       NaN   \n",
      "118        NaN     NaN       NaN  0.001                NaN    rbf       NaN   \n",
      "128        NaN     NaN       NaN  0.001                NaN    rbf       NaN   \n",
      "133        NaN     NaN       NaN  0.001                NaN    rbf       NaN   \n",
      "79         NaN     NaN   entropy    NaN                NaN    NaN         7   \n",
      "32         NaN     NaN      gini    NaN                NaN    NaN         7   \n",
      "78         NaN     NaN   entropy    NaN                NaN    NaN         7   \n",
      "34         NaN     NaN      gini    NaN                NaN    NaN         7   \n",
      "39         NaN     NaN      gini    NaN                NaN    NaN         7   \n",
      "92         NaN     NaN   entropy    NaN                NaN    NaN         8   \n",
      "88         NaN     NaN   entropy    NaN                NaN    NaN         8   \n",
      "85         NaN     NaN   entropy    NaN                NaN    NaN         7   \n",
      "81         NaN     NaN   entropy    NaN                NaN    NaN         7   \n",
      "37         NaN     NaN      gini    NaN                NaN    NaN         7   \n",
      "40         NaN     NaN      gini    NaN                NaN    NaN         7   \n",
      "24         NaN     NaN      gini    NaN                NaN    NaN         6   \n",
      "90         NaN     NaN   entropy    NaN                NaN    NaN         8   \n",
      "25         NaN     NaN      gini    NaN                NaN    NaN         6   \n",
      "35         NaN     NaN      gini    NaN                NaN    NaN         7   \n",
      "82         NaN     NaN   entropy    NaN                NaN    NaN         7   \n",
      "108        NaN     NaN       NaN  0.001                NaN    rbf       NaN   \n",
      "89         NaN     NaN   entropy    NaN                NaN    NaN         8   \n",
      "46         NaN     NaN      gini    NaN                NaN    NaN         8   \n",
      "84         NaN     NaN   entropy    NaN                NaN    NaN         7   \n",
      "44         NaN     NaN      gini    NaN                NaN    NaN         8   \n",
      "27         NaN     NaN      gini    NaN                NaN    NaN         6   \n",
      "73         NaN     NaN   entropy    NaN                NaN    NaN         6   \n",
      "75         NaN     NaN   entropy    NaN                NaN    NaN         6   \n",
      "31         NaN     NaN      gini    NaN                NaN    NaN         6   \n",
      "..         ...     ...       ...    ...                ...    ...       ...   \n",
      "170    kd_tree     NaN       NaN    NaN                NaN    NaN       NaN   \n",
      "146       auto     NaN       NaN    NaN                NaN    NaN       NaN   \n",
      "158  ball_tree     NaN       NaN    NaN                NaN    NaN       NaN   \n",
      "194        NaN     0.1       NaN    NaN                 10    NaN       NaN   \n",
      "190        NaN     0.1       NaN    NaN                 10    NaN       NaN   \n",
      "198        NaN     0.1       NaN    NaN                 10    NaN       NaN   \n",
      "246        NaN   1e-07       NaN    NaN                 10    NaN       NaN   \n",
      "218        NaN  0.0001       NaN    NaN                 10    NaN       NaN   \n",
      "214        NaN  0.0001       NaN    NaN                 10    NaN       NaN   \n",
      "222        NaN  0.0001       NaN    NaN                 10    NaN       NaN   \n",
      "139        NaN  0.0001       NaN    NaN                NaN    NaN       NaN   \n",
      "140        NaN       0       NaN    NaN                NaN    NaN       NaN   \n",
      "138        NaN   0.001       NaN    NaN                NaN    NaN       NaN   \n",
      "137        NaN    0.01       NaN    NaN                NaN    NaN       NaN   \n",
      "136        NaN     0.1       NaN    NaN                NaN    NaN       NaN   \n",
      "135        NaN       1       NaN    NaN                NaN    NaN       NaN   \n",
      "238        NaN   1e-07       NaN    NaN                 10    NaN       NaN   \n",
      "242        NaN   1e-07       NaN    NaN                 10    NaN       NaN   \n",
      "126        NaN     NaN       NaN    0.5                NaN    rbf       NaN   \n",
      "121        NaN     NaN       NaN    0.5                NaN    rbf       NaN   \n",
      "116        NaN     NaN       NaN    0.5                NaN    rbf       NaN   \n",
      "111        NaN     NaN       NaN    0.5                NaN    rbf       NaN   \n",
      "131        NaN     NaN       NaN    0.5                NaN    rbf       NaN   \n",
      "106        NaN     NaN       NaN    0.5                NaN    rbf       NaN   \n",
      "125        NaN     NaN       NaN      1                NaN    rbf       NaN   \n",
      "120        NaN     NaN       NaN      1                NaN    rbf       NaN   \n",
      "115        NaN     NaN       NaN      1                NaN    rbf       NaN   \n",
      "110        NaN     NaN       NaN      1                NaN    rbf       NaN   \n",
      "130        NaN     NaN       NaN      1                NaN    rbf       NaN   \n",
      "105        NaN     NaN       NaN      1                NaN    rbf       NaN   \n",
      "\n",
      "    max_features max_iter n_estimators n_neighbors random_state solver  \\\n",
      "123          NaN      NaN          NaN         NaN          NaN    NaN   \n",
      "113          NaN      NaN          NaN         NaN          NaN    NaN   \n",
      "118          NaN      NaN          NaN         NaN          NaN    NaN   \n",
      "128          NaN      NaN          NaN         NaN          NaN    NaN   \n",
      "133          NaN      NaN          NaN         NaN          NaN    NaN   \n",
      "79          auto      NaN          500         NaN          NaN    NaN   \n",
      "32          auto      NaN          100         NaN          NaN    NaN   \n",
      "78          auto      NaN          200         NaN          NaN    NaN   \n",
      "34          auto      NaN          500         NaN          NaN    NaN   \n",
      "39          log2      NaN          200         NaN          NaN    NaN   \n",
      "92          log2      NaN          100         NaN          NaN    NaN   \n",
      "88          auto      NaN          500         NaN          NaN    NaN   \n",
      "85          log2      NaN          500         NaN          NaN    NaN   \n",
      "81          sqrt      NaN          200         NaN          NaN    NaN   \n",
      "37          sqrt      NaN          500         NaN          NaN    NaN   \n",
      "40          log2      NaN          500         NaN          NaN    NaN   \n",
      "24          auto      NaN          200         NaN          NaN    NaN   \n",
      "90          sqrt      NaN          200         NaN          NaN    NaN   \n",
      "25          auto      NaN          500         NaN          NaN    NaN   \n",
      "35          sqrt      NaN          100         NaN          NaN    NaN   \n",
      "82          sqrt      NaN          500         NaN          NaN    NaN   \n",
      "108          NaN      NaN          NaN         NaN          NaN    NaN   \n",
      "89          sqrt      NaN          100         NaN          NaN    NaN   \n",
      "46          sqrt      NaN          500         NaN          NaN    NaN   \n",
      "84          log2      NaN          200         NaN          NaN    NaN   \n",
      "44          sqrt      NaN          100         NaN          NaN    NaN   \n",
      "27          sqrt      NaN          200         NaN          NaN    NaN   \n",
      "73          sqrt      NaN          500         NaN          NaN    NaN   \n",
      "75          log2      NaN          200         NaN          NaN    NaN   \n",
      "31          log2      NaN          500         NaN          NaN    NaN   \n",
      "..           ...      ...          ...         ...          ...    ...   \n",
      "170          NaN      NaN          NaN           7          NaN    NaN   \n",
      "146          NaN      NaN          NaN           7          NaN    NaN   \n",
      "158          NaN      NaN          NaN           7          NaN    NaN   \n",
      "194          NaN     1500          NaN         NaN            1  lbfgs   \n",
      "190          NaN     1000          NaN         NaN            1  lbfgs   \n",
      "198          NaN     2000          NaN         NaN            1  lbfgs   \n",
      "246          NaN     2000          NaN         NaN            1  lbfgs   \n",
      "218          NaN     1500          NaN         NaN            1  lbfgs   \n",
      "214          NaN     1000          NaN         NaN            1  lbfgs   \n",
      "222          NaN     2000          NaN         NaN            1  lbfgs   \n",
      "139          NaN      NaN          NaN         NaN          NaN    NaN   \n",
      "140          NaN      NaN          NaN         NaN          NaN    NaN   \n",
      "138          NaN      NaN          NaN         NaN          NaN    NaN   \n",
      "137          NaN      NaN          NaN         NaN          NaN    NaN   \n",
      "136          NaN      NaN          NaN         NaN          NaN    NaN   \n",
      "135          NaN      NaN          NaN         NaN          NaN    NaN   \n",
      "238          NaN     1000          NaN         NaN            1  lbfgs   \n",
      "242          NaN     1500          NaN         NaN            1  lbfgs   \n",
      "126          NaN      NaN          NaN         NaN          NaN    NaN   \n",
      "121          NaN      NaN          NaN         NaN          NaN    NaN   \n",
      "116          NaN      NaN          NaN         NaN          NaN    NaN   \n",
      "111          NaN      NaN          NaN         NaN          NaN    NaN   \n",
      "131          NaN      NaN          NaN         NaN          NaN    NaN   \n",
      "106          NaN      NaN          NaN         NaN          NaN    NaN   \n",
      "125          NaN      NaN          NaN         NaN          NaN    NaN   \n",
      "120          NaN      NaN          NaN         NaN          NaN    NaN   \n",
      "115          NaN      NaN          NaN         NaN          NaN    NaN   \n",
      "110          NaN      NaN          NaN         NaN          NaN    NaN   \n",
      "130          NaN      NaN          NaN         NaN          NaN    NaN   \n",
      "105          NaN      NaN          NaN         NaN          NaN    NaN   \n",
      "\n",
      "      weights  \n",
      "123       NaN  \n",
      "113       NaN  \n",
      "118       NaN  \n",
      "128       NaN  \n",
      "133       NaN  \n",
      "79        NaN  \n",
      "32        NaN  \n",
      "78        NaN  \n",
      "34        NaN  \n",
      "39        NaN  \n",
      "92        NaN  \n",
      "88        NaN  \n",
      "85        NaN  \n",
      "81        NaN  \n",
      "37        NaN  \n",
      "40        NaN  \n",
      "24        NaN  \n",
      "90        NaN  \n",
      "25        NaN  \n",
      "35        NaN  \n",
      "82        NaN  \n",
      "108       NaN  \n",
      "89        NaN  \n",
      "46        NaN  \n",
      "84        NaN  \n",
      "44        NaN  \n",
      "27        NaN  \n",
      "73        NaN  \n",
      "75        NaN  \n",
      "31        NaN  \n",
      "..        ...  \n",
      "170  distance  \n",
      "146  distance  \n",
      "158  distance  \n",
      "194       NaN  \n",
      "190       NaN  \n",
      "198       NaN  \n",
      "246       NaN  \n",
      "218       NaN  \n",
      "214       NaN  \n",
      "222       NaN  \n",
      "139       NaN  \n",
      "140       NaN  \n",
      "138       NaN  \n",
      "137       NaN  \n",
      "136       NaN  \n",
      "135       NaN  \n",
      "238       NaN  \n",
      "242       NaN  \n",
      "126       NaN  \n",
      "121       NaN  \n",
      "116       NaN  \n",
      "111       NaN  \n",
      "131       NaN  \n",
      "106       NaN  \n",
      "125       NaN  \n",
      "120       NaN  \n",
      "115       NaN  \n",
      "110       NaN  \n",
      "130       NaN  \n",
      "105       NaN  \n",
      "\n",
      "[261 rows x 20 columns]\n"
     ]
    }
   ],
   "source": [
    "print(helper1.score_summary(sort_by='mean_score'))"
   ]
  },
  {
   "cell_type": "code",
   "execution_count": 18,
   "metadata": {},
   "outputs": [
    {
     "name": "stdout",
     "output_type": "stream",
     "text": [
      "ExtraTreesClassifier\n",
      "RandomForestClassifier\n",
      "SVC\n",
      "Ridge Classifier\n",
      "knn\n",
      "mlp\n"
     ]
    },
    {
     "data": {
      "text/plain": [
       "pandas.core.frame.DataFrame"
      ]
     },
     "execution_count": 18,
     "metadata": {},
     "output_type": "execute_result"
    }
   ],
   "source": [
    "type(helper1.score_summary(sort_by='mean_score'))"
   ]
  },
  {
   "cell_type": "code",
   "execution_count": 19,
   "metadata": {},
   "outputs": [
    {
     "name": "stdout",
     "output_type": "stream",
     "text": [
      "ExtraTreesClassifier\n",
      "RandomForestClassifier\n",
      "SVC\n",
      "Ridge Classifier\n",
      "knn\n",
      "mlp\n",
      "                  estimator min_score mean_score max_score  std_score    C  \\\n",
      "123                     SVC   0.63871   0.699644      0.75  0.0362507    4   \n",
      "113                     SVC  0.625806   0.699602  0.762821  0.0427455    2   \n",
      "118                     SVC  0.641026   0.698353      0.75  0.0346716    3   \n",
      "128                     SVC  0.647436   0.693891  0.730769  0.0296882    5   \n",
      "133                     SVC  0.608974   0.690702  0.737179  0.0382246   10   \n",
      "79   RandomForestClassifier  0.596154   0.689874  0.794872  0.0598342  NaN   \n",
      "32   RandomForestClassifier  0.621795   0.689275   0.75641  0.0445561  NaN   \n",
      "78   RandomForestClassifier  0.608974   0.689258  0.769231  0.0496584  NaN   \n",
      "34   RandomForestClassifier  0.602564   0.689233  0.782051  0.0553327  NaN   \n",
      "39   RandomForestClassifier  0.602564    0.68865  0.762821  0.0463193  NaN   \n",
      "92   RandomForestClassifier   0.61039   0.688621  0.782051  0.0491155  NaN   \n",
      "88   RandomForestClassifier  0.596154   0.688617  0.788462  0.0562306  NaN   \n",
      "85   RandomForestClassifier  0.596154   0.688584  0.769231  0.0570925  NaN   \n",
      "81   RandomForestClassifier  0.596154    0.68798   0.75641  0.0546906  NaN   \n",
      "37   RandomForestClassifier  0.603896   0.687926  0.769231  0.0543171  NaN   \n",
      "40   RandomForestClassifier  0.603896   0.687318  0.782051  0.0528495  NaN   \n",
      "24   RandomForestClassifier  0.597403   0.687306  0.788462  0.0545572  NaN   \n",
      "90   RandomForestClassifier  0.602564    0.68669  0.769231  0.0524282  NaN   \n",
      "25   RandomForestClassifier  0.602564   0.686677  0.782051  0.0525533  NaN   \n",
      "35   RandomForestClassifier  0.615385   0.686111   0.75641  0.0407346  NaN   \n",
      "82   RandomForestClassifier  0.589744   0.685424  0.769231  0.0518242  NaN   \n",
      "108                     SVC  0.612903   0.684825   0.74359  0.0373133    1   \n",
      "89   RandomForestClassifier  0.602564   0.684792  0.775641  0.0516393  NaN   \n",
      "46   RandomForestClassifier  0.621795   0.684775  0.769231  0.0441058  NaN   \n",
      "84   RandomForestClassifier  0.602564   0.684738   0.75641  0.0545776  NaN   \n",
      "44   RandomForestClassifier  0.608974   0.684159      0.75  0.0450512  NaN   \n",
      "27   RandomForestClassifier  0.615385   0.684134  0.737179   0.041127  NaN   \n",
      "73   RandomForestClassifier  0.596154   0.684113  0.762821  0.0515185  NaN   \n",
      "75   RandomForestClassifier  0.615385   0.684105  0.769231  0.0468739  NaN   \n",
      "31   RandomForestClassifier  0.596154   0.684101  0.775641  0.0544713  NaN   \n",
      "..                      ...       ...        ...       ...        ...  ...   \n",
      "170                     knn  0.538462   0.631529  0.688312  0.0483865  NaN   \n",
      "146                     knn  0.538462   0.631529  0.688312  0.0483865  NaN   \n",
      "158                     knn  0.551282    0.63152  0.688312  0.0451153  NaN   \n",
      "194                     mlp  0.525641   0.625713  0.660256  0.0378552  NaN   \n",
      "190                     mlp  0.551282   0.625709  0.660256  0.0300344  NaN   \n",
      "198                     mlp  0.525641   0.625072  0.660256  0.0378619  NaN   \n",
      "246                     mlp  0.551282   0.623769  0.679487  0.0385866  NaN   \n",
      "218                     mlp  0.544872   0.623761  0.692308  0.0384097  NaN   \n",
      "214                     mlp  0.538462   0.623761  0.692308  0.0396727  NaN   \n",
      "222                     mlp  0.544872   0.622462  0.692308  0.0396037  NaN   \n",
      "139        Ridge Classifier  0.519231   0.622429  0.698718  0.0502728  NaN   \n",
      "140        Ridge Classifier  0.519231   0.622429  0.698718  0.0502728  NaN   \n",
      "138        Ridge Classifier  0.519231   0.622429  0.698718  0.0502728  NaN   \n",
      "137        Ridge Classifier  0.519231   0.622429  0.698718  0.0502728  NaN   \n",
      "136        Ridge Classifier  0.519231   0.622429  0.698718  0.0502728  NaN   \n",
      "135        Ridge Classifier  0.519231   0.622429  0.698718  0.0502728  NaN   \n",
      "238                     mlp  0.551282   0.621201  0.685897  0.0388952  NaN   \n",
      "242                     mlp  0.551282   0.620548  0.673077  0.0366692  NaN   \n",
      "126                     SVC  0.470968   0.515045  0.544872  0.0251256    5   \n",
      "121                     SVC  0.470968   0.515045  0.544872  0.0251256    4   \n",
      "116                     SVC  0.470968   0.515045  0.544872  0.0251256    3   \n",
      "111                     SVC  0.470968   0.515045  0.544872  0.0251256    2   \n",
      "131                     SVC  0.470968   0.515045  0.544872  0.0251256   10   \n",
      "106                     SVC  0.470968   0.514404  0.544872  0.0260565    1   \n",
      "125                     SVC  0.470968   0.513763  0.544872  0.0258502    5   \n",
      "120                     SVC  0.470968   0.513763  0.544872  0.0258502    4   \n",
      "115                     SVC  0.470968   0.513763  0.544872  0.0258502    3   \n",
      "110                     SVC  0.470968   0.513763  0.544872  0.0258502    2   \n",
      "130                     SVC  0.470968   0.513763  0.544872  0.0258502   10   \n",
      "105                     SVC  0.470968   0.511183  0.544872  0.0253334    1   \n",
      "\n",
      "     algorithm   alpha criterion  gamma hidden_layer_sizes kernel max_depth  \\\n",
      "123        NaN     NaN       NaN  0.001                NaN    rbf       NaN   \n",
      "113        NaN     NaN       NaN  0.001                NaN    rbf       NaN   \n",
      "118        NaN     NaN       NaN  0.001                NaN    rbf       NaN   \n",
      "128        NaN     NaN       NaN  0.001                NaN    rbf       NaN   \n",
      "133        NaN     NaN       NaN  0.001                NaN    rbf       NaN   \n",
      "79         NaN     NaN   entropy    NaN                NaN    NaN         7   \n",
      "32         NaN     NaN      gini    NaN                NaN    NaN         7   \n",
      "78         NaN     NaN   entropy    NaN                NaN    NaN         7   \n",
      "34         NaN     NaN      gini    NaN                NaN    NaN         7   \n",
      "39         NaN     NaN      gini    NaN                NaN    NaN         7   \n",
      "92         NaN     NaN   entropy    NaN                NaN    NaN         8   \n",
      "88         NaN     NaN   entropy    NaN                NaN    NaN         8   \n",
      "85         NaN     NaN   entropy    NaN                NaN    NaN         7   \n",
      "81         NaN     NaN   entropy    NaN                NaN    NaN         7   \n",
      "37         NaN     NaN      gini    NaN                NaN    NaN         7   \n",
      "40         NaN     NaN      gini    NaN                NaN    NaN         7   \n",
      "24         NaN     NaN      gini    NaN                NaN    NaN         6   \n",
      "90         NaN     NaN   entropy    NaN                NaN    NaN         8   \n",
      "25         NaN     NaN      gini    NaN                NaN    NaN         6   \n",
      "35         NaN     NaN      gini    NaN                NaN    NaN         7   \n",
      "82         NaN     NaN   entropy    NaN                NaN    NaN         7   \n",
      "108        NaN     NaN       NaN  0.001                NaN    rbf       NaN   \n",
      "89         NaN     NaN   entropy    NaN                NaN    NaN         8   \n",
      "46         NaN     NaN      gini    NaN                NaN    NaN         8   \n",
      "84         NaN     NaN   entropy    NaN                NaN    NaN         7   \n",
      "44         NaN     NaN      gini    NaN                NaN    NaN         8   \n",
      "27         NaN     NaN      gini    NaN                NaN    NaN         6   \n",
      "73         NaN     NaN   entropy    NaN                NaN    NaN         6   \n",
      "75         NaN     NaN   entropy    NaN                NaN    NaN         6   \n",
      "31         NaN     NaN      gini    NaN                NaN    NaN         6   \n",
      "..         ...     ...       ...    ...                ...    ...       ...   \n",
      "170    kd_tree     NaN       NaN    NaN                NaN    NaN       NaN   \n",
      "146       auto     NaN       NaN    NaN                NaN    NaN       NaN   \n",
      "158  ball_tree     NaN       NaN    NaN                NaN    NaN       NaN   \n",
      "194        NaN     0.1       NaN    NaN                 10    NaN       NaN   \n",
      "190        NaN     0.1       NaN    NaN                 10    NaN       NaN   \n",
      "198        NaN     0.1       NaN    NaN                 10    NaN       NaN   \n",
      "246        NaN   1e-07       NaN    NaN                 10    NaN       NaN   \n",
      "218        NaN  0.0001       NaN    NaN                 10    NaN       NaN   \n",
      "214        NaN  0.0001       NaN    NaN                 10    NaN       NaN   \n",
      "222        NaN  0.0001       NaN    NaN                 10    NaN       NaN   \n",
      "139        NaN  0.0001       NaN    NaN                NaN    NaN       NaN   \n",
      "140        NaN       0       NaN    NaN                NaN    NaN       NaN   \n",
      "138        NaN   0.001       NaN    NaN                NaN    NaN       NaN   \n",
      "137        NaN    0.01       NaN    NaN                NaN    NaN       NaN   \n",
      "136        NaN     0.1       NaN    NaN                NaN    NaN       NaN   \n",
      "135        NaN       1       NaN    NaN                NaN    NaN       NaN   \n",
      "238        NaN   1e-07       NaN    NaN                 10    NaN       NaN   \n",
      "242        NaN   1e-07       NaN    NaN                 10    NaN       NaN   \n",
      "126        NaN     NaN       NaN    0.5                NaN    rbf       NaN   \n",
      "121        NaN     NaN       NaN    0.5                NaN    rbf       NaN   \n",
      "116        NaN     NaN       NaN    0.5                NaN    rbf       NaN   \n",
      "111        NaN     NaN       NaN    0.5                NaN    rbf       NaN   \n",
      "131        NaN     NaN       NaN    0.5                NaN    rbf       NaN   \n",
      "106        NaN     NaN       NaN    0.5                NaN    rbf       NaN   \n",
      "125        NaN     NaN       NaN      1                NaN    rbf       NaN   \n",
      "120        NaN     NaN       NaN      1                NaN    rbf       NaN   \n",
      "115        NaN     NaN       NaN      1                NaN    rbf       NaN   \n",
      "110        NaN     NaN       NaN      1                NaN    rbf       NaN   \n",
      "130        NaN     NaN       NaN      1                NaN    rbf       NaN   \n",
      "105        NaN     NaN       NaN      1                NaN    rbf       NaN   \n",
      "\n",
      "    max_features max_iter n_estimators n_neighbors random_state solver  \\\n",
      "123          NaN      NaN          NaN         NaN          NaN    NaN   \n",
      "113          NaN      NaN          NaN         NaN          NaN    NaN   \n",
      "118          NaN      NaN          NaN         NaN          NaN    NaN   \n",
      "128          NaN      NaN          NaN         NaN          NaN    NaN   \n",
      "133          NaN      NaN          NaN         NaN          NaN    NaN   \n",
      "79          auto      NaN          500         NaN          NaN    NaN   \n",
      "32          auto      NaN          100         NaN          NaN    NaN   \n",
      "78          auto      NaN          200         NaN          NaN    NaN   \n",
      "34          auto      NaN          500         NaN          NaN    NaN   \n",
      "39          log2      NaN          200         NaN          NaN    NaN   \n",
      "92          log2      NaN          100         NaN          NaN    NaN   \n",
      "88          auto      NaN          500         NaN          NaN    NaN   \n",
      "85          log2      NaN          500         NaN          NaN    NaN   \n",
      "81          sqrt      NaN          200         NaN          NaN    NaN   \n",
      "37          sqrt      NaN          500         NaN          NaN    NaN   \n",
      "40          log2      NaN          500         NaN          NaN    NaN   \n",
      "24          auto      NaN          200         NaN          NaN    NaN   \n",
      "90          sqrt      NaN          200         NaN          NaN    NaN   \n",
      "25          auto      NaN          500         NaN          NaN    NaN   \n",
      "35          sqrt      NaN          100         NaN          NaN    NaN   \n",
      "82          sqrt      NaN          500         NaN          NaN    NaN   \n",
      "108          NaN      NaN          NaN         NaN          NaN    NaN   \n",
      "89          sqrt      NaN          100         NaN          NaN    NaN   \n",
      "46          sqrt      NaN          500         NaN          NaN    NaN   \n",
      "84          log2      NaN          200         NaN          NaN    NaN   \n",
      "44          sqrt      NaN          100         NaN          NaN    NaN   \n",
      "27          sqrt      NaN          200         NaN          NaN    NaN   \n",
      "73          sqrt      NaN          500         NaN          NaN    NaN   \n",
      "75          log2      NaN          200         NaN          NaN    NaN   \n",
      "31          log2      NaN          500         NaN          NaN    NaN   \n",
      "..           ...      ...          ...         ...          ...    ...   \n",
      "170          NaN      NaN          NaN           7          NaN    NaN   \n",
      "146          NaN      NaN          NaN           7          NaN    NaN   \n",
      "158          NaN      NaN          NaN           7          NaN    NaN   \n",
      "194          NaN     1500          NaN         NaN            1  lbfgs   \n",
      "190          NaN     1000          NaN         NaN            1  lbfgs   \n",
      "198          NaN     2000          NaN         NaN            1  lbfgs   \n",
      "246          NaN     2000          NaN         NaN            1  lbfgs   \n",
      "218          NaN     1500          NaN         NaN            1  lbfgs   \n",
      "214          NaN     1000          NaN         NaN            1  lbfgs   \n",
      "222          NaN     2000          NaN         NaN            1  lbfgs   \n",
      "139          NaN      NaN          NaN         NaN          NaN    NaN   \n",
      "140          NaN      NaN          NaN         NaN          NaN    NaN   \n",
      "138          NaN      NaN          NaN         NaN          NaN    NaN   \n",
      "137          NaN      NaN          NaN         NaN          NaN    NaN   \n",
      "136          NaN      NaN          NaN         NaN          NaN    NaN   \n",
      "135          NaN      NaN          NaN         NaN          NaN    NaN   \n",
      "238          NaN     1000          NaN         NaN            1  lbfgs   \n",
      "242          NaN     1500          NaN         NaN            1  lbfgs   \n",
      "126          NaN      NaN          NaN         NaN          NaN    NaN   \n",
      "121          NaN      NaN          NaN         NaN          NaN    NaN   \n",
      "116          NaN      NaN          NaN         NaN          NaN    NaN   \n",
      "111          NaN      NaN          NaN         NaN          NaN    NaN   \n",
      "131          NaN      NaN          NaN         NaN          NaN    NaN   \n",
      "106          NaN      NaN          NaN         NaN          NaN    NaN   \n",
      "125          NaN      NaN          NaN         NaN          NaN    NaN   \n",
      "120          NaN      NaN          NaN         NaN          NaN    NaN   \n",
      "115          NaN      NaN          NaN         NaN          NaN    NaN   \n",
      "110          NaN      NaN          NaN         NaN          NaN    NaN   \n",
      "130          NaN      NaN          NaN         NaN          NaN    NaN   \n",
      "105          NaN      NaN          NaN         NaN          NaN    NaN   \n",
      "\n",
      "      weights  \n",
      "123       NaN  \n",
      "113       NaN  \n",
      "118       NaN  \n",
      "128       NaN  \n",
      "133       NaN  \n",
      "79        NaN  \n",
      "32        NaN  \n",
      "78        NaN  \n",
      "34        NaN  \n",
      "39        NaN  \n",
      "92        NaN  \n",
      "88        NaN  \n",
      "85        NaN  \n",
      "81        NaN  \n",
      "37        NaN  \n",
      "40        NaN  \n",
      "24        NaN  \n",
      "90        NaN  \n",
      "25        NaN  \n",
      "35        NaN  \n",
      "82        NaN  \n",
      "108       NaN  \n",
      "89        NaN  \n",
      "46        NaN  \n",
      "84        NaN  \n",
      "44        NaN  \n",
      "27        NaN  \n",
      "73        NaN  \n",
      "75        NaN  \n",
      "31        NaN  \n",
      "..        ...  \n",
      "170  distance  \n",
      "146  distance  \n",
      "158  distance  \n",
      "194       NaN  \n",
      "190       NaN  \n",
      "198       NaN  \n",
      "246       NaN  \n",
      "218       NaN  \n",
      "214       NaN  \n",
      "222       NaN  \n",
      "139       NaN  \n",
      "140       NaN  \n",
      "138       NaN  \n",
      "137       NaN  \n",
      "136       NaN  \n",
      "135       NaN  \n",
      "238       NaN  \n",
      "242       NaN  \n",
      "126       NaN  \n",
      "121       NaN  \n",
      "116       NaN  \n",
      "111       NaN  \n",
      "131       NaN  \n",
      "106       NaN  \n",
      "125       NaN  \n",
      "120       NaN  \n",
      "115       NaN  \n",
      "110       NaN  \n",
      "130       NaN  \n",
      "105       NaN  \n",
      "\n",
      "[261 rows x 20 columns]\n"
     ]
    }
   ],
   "source": [
    "print(helper1.score_summary(sort_by='mean_score'))"
   ]
  },
  {
   "cell_type": "code",
   "execution_count": 20,
   "metadata": {},
   "outputs": [
    {
     "name": "stdout",
     "output_type": "stream",
     "text": [
      "ExtraTreesClassifier\n",
      "RandomForestClassifier\n",
      "SVC\n",
      "Ridge Classifier\n",
      "knn\n",
      "mlp\n"
     ]
    }
   ],
   "source": [
    "helper1.score_summary(sort_by='mean_score').to_csv(\"parameters.csv\", sep=',')"
   ]
  },
  {
   "cell_type": "code",
   "execution_count": 41,
   "metadata": {},
   "outputs": [],
   "source": [
    "clf1 = SVC(C=4, gamma=0.001, kernel='rbf')"
   ]
  },
  {
   "cell_type": "code",
   "execution_count": 22,
   "metadata": {},
   "outputs": [],
   "source": [
    "clf2 = KNeighborsClassifier(algorithm='ball_tree', n_neighbors=5, weights='uniform')"
   ]
  },
  {
   "cell_type": "code",
   "execution_count": 23,
   "metadata": {},
   "outputs": [],
   "source": [
    "clf3 = RandomForestClassifier(criterion='entropy', max_depth=7, max_features='sqrt', n_estimators=200)"
   ]
  },
  {
   "cell_type": "code",
   "execution_count": 24,
   "metadata": {},
   "outputs": [],
   "source": [
    "clf4 = ExtraTreesClassifier(n_estimators=200)"
   ]
  },
  {
   "cell_type": "code",
   "execution_count": 25,
   "metadata": {},
   "outputs": [],
   "source": [
    "clf5 = RidgeClassifier(alpha=0.01)"
   ]
  },
  {
   "cell_type": "code",
   "execution_count": 26,
   "metadata": {},
   "outputs": [],
   "source": [
    "clf6 = MLPClassifier(alpha=0.1, hidden_layer_sizes=13, max_iter=1000, random_state=1, solver='lbfgs')"
   ]
  },
  {
   "cell_type": "code",
   "execution_count": null,
   "metadata": {},
   "outputs": [],
   "source": []
  },
  {
   "cell_type": "markdown",
   "metadata": {},
   "source": [
    "#EVALUATE MODELS"
   ]
  },
  {
   "cell_type": "code",
   "execution_count": 27,
   "metadata": {},
   "outputs": [],
   "source": [
    "from sklearn.model_selection import cross_val_score"
   ]
  },
  {
   "cell_type": "code",
   "execution_count": 28,
   "metadata": {},
   "outputs": [],
   "source": [
    "def evaluate_model(X,Y, clf):\n",
    "    clf.fit(X,Y)\n",
    "    cv_10scores = cross_val_score(estimator=clf,X=X,y=Y,cv=5)\n",
    "    print(\"SVM Cross Validation Accuracy: %0.2f (+/- %0.2f)\" % (cv_10scores.mean(), cv_10scores.std() * 2))\n",
    "    print(\"SVM Cross Validation Variance \",(cv_10scores.std()**2))"
   ]
  },
  {
   "cell_type": "code",
   "execution_count": 32,
   "metadata": {},
   "outputs": [],
   "source": [
    "train = np.asarray(X)"
   ]
  },
  {
   "cell_type": "code",
   "execution_count": 33,
   "metadata": {},
   "outputs": [],
   "source": [
    "test = np.asarray(Y)"
   ]
  },
  {
   "cell_type": "code",
   "execution_count": 35,
   "metadata": {},
   "outputs": [
    {
     "name": "stdout",
     "output_type": "stream",
     "text": [
      "SVM Cross Validation Accuracy: 0.68 (+/- 0.08)\n",
      "SVM Cross Validation Variance  0.0016716282069293208\n"
     ]
    }
   ],
   "source": [
    "evaluate_model(train, test, clf3)"
   ]
  },
  {
   "cell_type": "code",
   "execution_count": 36,
   "metadata": {},
   "outputs": [],
   "source": [
    "clfnew = SVC(C=4, gamma=0.001, kernel='rbf')"
   ]
  },
  {
   "cell_type": "code",
   "execution_count": null,
   "metadata": {},
   "outputs": [],
   "source": [
    "c10 = pd.read_csv('../features/bp/ct/neg_train_c10', header=None)\n",
    "c10pos = pd.read_csv('../features/bp/ct/pos_train_c10', header=None)"
   ]
  },
  {
   "cell_type": "code",
   "execution_count": 48,
   "metadata": {},
   "outputs": [],
   "source": [
    "c10['flag'] = 2\n",
    "c10pos['flag'] = 1"
   ]
  },
  {
   "cell_type": "code",
   "execution_count": 49,
   "metadata": {},
   "outputs": [],
   "source": [
    "c10train = pd.concat([c10, c10pos])"
   ]
  },
  {
   "cell_type": "code",
   "execution_count": 51,
   "metadata": {},
   "outputs": [],
   "source": [
    "c10train = c10train.sample(frac=1).reset_index(drop=True)"
   ]
  },
  {
   "cell_type": "code",
   "execution_count": 59,
   "metadata": {},
   "outputs": [],
   "source": [
    "temptrain = c10train[c10train.columns[:201]]"
   ]
  },
  {
   "cell_type": "code",
   "execution_count": 61,
   "metadata": {},
   "outputs": [],
   "source": [
    "templabels = c10train['flag']"
   ]
  },
  {
   "cell_type": "code",
   "execution_count": 64,
   "metadata": {},
   "outputs": [],
   "source": [
    "temptrain = np.asarray(temptrain)"
   ]
  },
  {
   "cell_type": "code",
   "execution_count": null,
   "metadata": {},
   "outputs": [],
   "source": []
  }
 ],
 "metadata": {
  "kernelspec": {
   "display_name": "Python 3",
   "language": "python",
   "name": "python3"
  },
  "language_info": {
   "codemirror_mode": {
    "name": "ipython",
    "version": 3
   },
   "file_extension": ".py",
   "mimetype": "text/x-python",
   "name": "python",
   "nbconvert_exporter": "python",
   "pygments_lexer": "ipython3",
   "version": "3.7.1"
  }
 },
 "nbformat": 4,
 "nbformat_minor": 2
}
